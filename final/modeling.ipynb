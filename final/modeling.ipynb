{
  "cells": [
    {
      "cell_type": "markdown",
      "metadata": {
        "id": "view-in-github",
        "colab_type": "text"
      },
      "source": [
        "<a href=\"https://colab.research.google.com/github/rootofdata/kostat_AI_contest/blob/main/%5BFinal%5D_modeling.ipynb\" target=\"_parent\"><img src=\"https://colab.research.google.com/assets/colab-badge.svg\" alt=\"Open In Colab\"/></a>"
      ]
    },
    {
      "cell_type": "markdown",
      "metadata": {
        "id": "lwZgHJgDBdWd"
      },
      "source": [
        "# 256->512 ver. CNN-LSTM"
      ]
    },
    {
      "cell_type": "code",
      "execution_count": null,
      "metadata": {
        "colab": {
          "base_uri": "https://localhost:8080/"
        },
        "id": "0_UetIdNBdWq",
        "outputId": "1c18c913-1790-47ea-ec45-e3aa0e5c168d",
        "scrolled": true
      },
      "outputs": [
        {
          "name": "stdout",
          "output_type": "stream",
          "text": [
            "Requirement already satisfied: gensim in c:\\users\\seo\\anaconda3\\lib\\site-packages (4.1.2)\n",
            "Requirement already satisfied: Cython==0.29.23 in c:\\users\\seo\\anaconda3\\lib\\site-packages (from gensim) (0.29.23)\n",
            "Requirement already satisfied: scipy>=0.18.1 in c:\\users\\seo\\anaconda3\\lib\\site-packages (from gensim) (1.5.2)\n",
            "Requirement already satisfied: numpy>=1.17.0 in c:\\users\\seo\\anaconda3\\lib\\site-packages (from gensim) (1.22.3)\n",
            "Requirement already satisfied: smart-open>=1.8.1 in c:\\users\\seo\\anaconda3\\lib\\site-packages (from gensim) (5.2.1)\n"
          ]
        }
      ],
      "source": [
        "!pip install gensim"
      ]
    },
    {
      "cell_type": "code",
      "execution_count": null,
      "metadata": {
        "id": "yDTA2wLCkx1P"
      },
      "outputs": [],
      "source": [
        "from tensorflow.keras.preprocessing.text import Tokenizer\n",
        "from tensorflow.keras.preprocessing.sequence import pad_sequences\n",
        "from tensorflow.keras.utils import to_categorical"
      ]
    },
    {
      "cell_type": "code",
      "execution_count": null,
      "metadata": {
        "id": "IEEjEQugjjUt"
      },
      "outputs": [],
      "source": [
        "import pandas as pd\n",
        "import numpy as np\n",
        "from gensim.models import word2vec\n",
        "import pickle"
      ]
    },
    {
      "cell_type": "markdown",
      "metadata": {
        "id": "rttwJXTfEFO3"
      },
      "source": [
        "# 함수 및 데이터 로드"
      ]
    },
    {
      "cell_type": "code",
      "execution_count": null,
      "metadata": {
        "id": "Yw9wEXBymBYw"
      },
      "outputs": [],
      "source": [
        "def compute_pca(X: np.ndarray, n_components: int=2) -> np.ndarray:\n",
        "\n",
        "    X_demeaned = X - X.mean(axis=0)\n",
        "\n",
        "    # calculate the covariance matrix\n",
        "    covariance_matrix = np.cov(X_demeaned, rowvar=False)\n",
        "\n",
        "    # calculate eigenvectors & eigenvalues of the covariance matrix\n",
        "    eigen_vals, eigen_vecs = np.linalg.eigh(covariance_matrix)\n",
        "\n",
        "    # sort eigenvalue in increasing order (get the indices from the sort)\n",
        "    idx_sorted = np.argsort(eigen_vals)\n",
        "\n",
        "    # reverse the order so that it's from highest to lowest.\n",
        "    idx_sorted_decreasing = list(reversed(idx_sorted))\n",
        "\n",
        "    # sort the eigen values by idx_sorted_decreasing\n",
        "    eigen_vals_sorted = eigen_vals[idx_sorted_decreasing]\n",
        "\n",
        "    # sort eigenvectors using the idx_sorted_decreasing indices\n",
        "    eigen_vecs_sorted = eigen_vecs[:, idx_sorted_decreasing]\n",
        "\n",
        "    # select the first n eigenvectors (n is desired dimension\n",
        "    # of rescaled data array, or dims_rescaled_data)\n",
        "    # once again, make sure to get all the rows and only slice the columns\n",
        "    eigen_vecs_subset = eigen_vecs_sorted[:, :n_components]\n",
        "\n",
        "    # transform the data by multiplying the transpose of the eigenvectors \n",
        "    # with the transpose of the de-meaned data\n",
        "    # Then take the transpose of that product.\n",
        "    X_reduced = np.dot(eigen_vecs_subset.T, X_demeaned.T).T\n",
        "    return X_reduced"
      ]
    },
    {
      "cell_type": "code",
      "execution_count": null,
      "metadata": {
        "id": "1Iky1oa5lx-Z"
      },
      "outputs": [],
      "source": [
        "def get_vector(word):\n",
        "    if word in word2vec_model:\n",
        "        return word2vec_model[word]\n",
        "    else:\n",
        "        return None"
      ]
    },
    {
      "cell_type": "code",
      "execution_count": null,
      "metadata": {
        "id": "yJKQjm2ajufW"
      },
      "outputs": [],
      "source": [
        "word2vec_model = word2vec.Word2Vec.load('/content/drive/MyDrive/통계청_AI경진대회/final/data/train_final.model2')\n",
        "word2vec_model = word2vec_model.wv\n",
        "submission = pd.read_csv('/content/drive/MyDrive/통계청_AI경진대회/모델 개발용 자료/모델 개발용 자료.csv',header = 1)\n",
        "data = pd.read_csv('/content/drive/MyDrive/통계청_AI경진대회/실습용 자료/실습용 자료.csv',header = 1)"
      ]
    },
    {
      "cell_type": "code",
      "execution_count": null,
      "metadata": {
        "id": "F3EtSp-xkPwv"
      },
      "outputs": [],
      "source": [
        "train = []\n",
        "with open('/content/drive/MyDrive/통계청_AI경진대회/final/data/train_final2','rb') as f:\n",
        "    train = pickle.load(f)\n",
        "max_len = max(len(l) for l in train)\n",
        "\n",
        "test = []\n",
        "with open('/content/drive/MyDrive/통계청_AI경진대회/final/data/submission_final2','rb') as f:\n",
        "    test = pickle.load(f)\n",
        "max_len2 = max(len(l) for l in test)"
      ]
    },
    {
      "cell_type": "code",
      "execution_count": null,
      "metadata": {
        "colab": {
          "base_uri": "https://localhost:8080/"
        },
        "id": "QxPgSvrtsX6g",
        "outputId": "26845bba-0b06-44cb-8041-8e487533efc9"
      },
      "outputs": [
        {
          "name": "stdout",
          "output_type": "stream",
          "text": [
            "1000495\n"
          ]
        }
      ],
      "source": [
        "print(len(train))"
      ]
    },
    {
      "cell_type": "code",
      "execution_count": null,
      "metadata": {
        "colab": {
          "base_uri": "https://localhost:8080/"
        },
        "id": "DO8hH_K9kpfG",
        "outputId": "0a549131-d1cb-4c52-95b7-e9f001602b43"
      },
      "outputs": [
        {
          "data": {
            "text/plain": [
              "(53, 49)"
            ]
          },
          "execution_count": 20,
          "metadata": {},
          "output_type": "execute_result"
        }
      ],
      "source": [
        "max_len, max_len2"
      ]
    },
    {
      "cell_type": "markdown",
      "metadata": {
        "id": "4DYK3aq71Jf3"
      },
      "source": [
        "# embedding Matrix-> pca"
      ]
    },
    {
      "cell_type": "code",
      "execution_count": null,
      "metadata": {
        "colab": {
          "base_uri": "https://localhost:8080/"
        },
        "id": "tcPlspsg1ML2",
        "outputId": "7655f9eb-88ad-4168-dd1d-7b1f7ebfab74"
      },
      "outputs": [
        {
          "name": "stdout",
          "output_type": "stream",
          "text": [
            "단어 집합 : 37117\n"
          ]
        }
      ],
      "source": [
        "tokenizer = Tokenizer()\n",
        "tokenizer.fit_on_texts(train[:-495])\n",
        "vocab_size = len(tokenizer.word_index) + 1 # 패딩을 고려하여 +1\n",
        "print('단어 집합 :',vocab_size)\n",
        "\n",
        "X_encoded = tokenizer.texts_to_sequences(train[:-495])\n",
        "#print('정수 인코딩 결과 :',X_encoded.shape)"
      ]
    },
    {
      "cell_type": "code",
      "execution_count": null,
      "metadata": {
        "colab": {
          "base_uri": "https://localhost:8080/",
          "height": 423
        },
        "id": "sDvS3mD8BdXO",
        "outputId": "4ddd245e-9577-48f3-8f1d-97b9209745b9"
      },
      "outputs": [
        {
          "data": {
            "text/html": [
              "<div>\n",
              "<style scoped>\n",
              "    .dataframe tbody tr th:only-of-type {\n",
              "        vertical-align: middle;\n",
              "    }\n",
              "\n",
              "    .dataframe tbody tr th {\n",
              "        vertical-align: top;\n",
              "    }\n",
              "\n",
              "    .dataframe thead th {\n",
              "        text-align: right;\n",
              "    }\n",
              "</style>\n",
              "<table border=\"1\" class=\"dataframe\">\n",
              "  <thead>\n",
              "    <tr style=\"text-align: right;\">\n",
              "      <th></th>\n",
              "      <th>digit_3</th>\n",
              "    </tr>\n",
              "  </thead>\n",
              "  <tbody>\n",
              "    <tr>\n",
              "      <th>0</th>\n",
              "      <td>952</td>\n",
              "    </tr>\n",
              "    <tr>\n",
              "      <th>1</th>\n",
              "      <td>472</td>\n",
              "    </tr>\n",
              "    <tr>\n",
              "      <th>2</th>\n",
              "      <td>467</td>\n",
              "    </tr>\n",
              "    <tr>\n",
              "      <th>3</th>\n",
              "      <td>475</td>\n",
              "    </tr>\n",
              "    <tr>\n",
              "      <th>4</th>\n",
              "      <td>872</td>\n",
              "    </tr>\n",
              "    <tr>\n",
              "      <th>...</th>\n",
              "      <td>...</td>\n",
              "    </tr>\n",
              "    <tr>\n",
              "      <th>999995</th>\n",
              "      <td>134</td>\n",
              "    </tr>\n",
              "    <tr>\n",
              "      <th>999996</th>\n",
              "      <td>424</td>\n",
              "    </tr>\n",
              "    <tr>\n",
              "      <th>999997</th>\n",
              "      <td>474</td>\n",
              "    </tr>\n",
              "    <tr>\n",
              "      <th>999998</th>\n",
              "      <td>856</td>\n",
              "    </tr>\n",
              "    <tr>\n",
              "      <th>999999</th>\n",
              "      <td>561</td>\n",
              "    </tr>\n",
              "  </tbody>\n",
              "</table>\n",
              "<p>1000000 rows × 1 columns</p>\n",
              "</div>"
            ],
            "text/plain": [
              "        digit_3\n",
              "0           952\n",
              "1           472\n",
              "2           467\n",
              "3           475\n",
              "4           872\n",
              "...         ...\n",
              "999995      134\n",
              "999996      424\n",
              "999997      474\n",
              "999998      856\n",
              "999999      561\n",
              "\n",
              "[1000000 rows x 1 columns]"
            ]
          },
          "execution_count": 25,
          "metadata": {},
          "output_type": "execute_result"
        }
      ],
      "source": [
        "a1=pd.DataFrame(data['digit_3'])\n",
        "y = a1\n",
        "y"
      ]
    },
    {
      "cell_type": "code",
      "execution_count": null,
      "metadata": {
        "colab": {
          "base_uri": "https://localhost:8080/"
        },
        "id": "17oaLYan1VQ2",
        "outputId": "90524bb2-30c6-4de6-9782-fe55aa0440ab"
      },
      "outputs": [
        {
          "name": "stdout",
          "output_type": "stream",
          "text": [
            "['101' '102' '103' '104' '105' '106' '107' '108' '11' '111' '112' '12'\n",
            " '120' '131' '132' '133' '134' '139' '14' '141' '142' '143' '144' '151'\n",
            " '152' '161' '162' '163' '171' '172' '179' '181' '182' '191' '192' '20'\n",
            " '201' '202' '203' '204' '205' '211' '212' '213' '221' '222' '231' '232'\n",
            " '233' '239' '241' '242' '243' '251' '252' '259' '261' '262' '263' '264'\n",
            " '265' '266' '271' '272' '273' '274' '281' '282' '283' '284' '285' '289'\n",
            " '291' '292' '301' '302' '303' '304' '31' '311' '312' '313' '319' '32'\n",
            " '320' '331' '332' '333' '334' '339' '340' '351' '352' '353' '360' '370'\n",
            " '381' '382' '383' '390' '411' '412' '421' '422' '423' '424' '425' '426'\n",
            " '451' '452' '453' '461' '462' '463' '464' '465' '466' '467' '468' '471'\n",
            " '472' '473' '474' '475' '476' '477' '478' '479' '491' '492' '493' '494'\n",
            " '495' '501' '502' '51' '511' '512' '521' '529' '551' '559' '561' '562'\n",
            " '581' '582' '591' '592' '601' '602' '61' '611' '612' '62' '620' '631'\n",
            " '639' '641' '642' '649' '651' '652' '653' '661' '662' '681' '682' '701'\n",
            " '702' '71' '711' '712' '713' '714' '715' '716' '72' '721' '729' '731'\n",
            " '732' '733' '739' '741' '742' '743' '751' '752' '753' '759' '761' '762'\n",
            " '763' '764' '80' '841' '842' '843' '844' '845' '851' '852' '853' '854'\n",
            " '855' '856' '857' '861' '862' '863' '869' '871' '872' '901' '902' '911'\n",
            " '912' '941' '942' '949' '951' '952' '953' '961' '969']\n"
          ]
        },
        {
          "name": "stderr",
          "output_type": "stream",
          "text": [
            "C:\\Users\\SEO\\anaconda3\\lib\\site-packages\\sklearn\\utils\\validation.py:72: DataConversionWarning: A column-vector y was passed when a 1d array was expected. Please change the shape of y to (n_samples, ), for example using ravel().\n",
            "  return f(**kwargs)\n"
          ]
        }
      ],
      "source": [
        "from sklearn.preprocessing import LabelEncoder\n",
        "import tensorflow as tf\n",
        "\n",
        "y_train = y.astype(str)\n",
        "\n",
        "le = LabelEncoder()\n",
        "le.fit(y_train)\n",
        "print(le.classes_)\n",
        "labels = le.classes_"
      ]
    },
    {
      "cell_type": "code",
      "execution_count": null,
      "metadata": {
        "colab": {
          "base_uri": "https://localhost:8080/"
        },
        "id": "vOx8adfTBdXP",
        "outputId": "3c1ce4f0-63d2-4ca3-d2dc-896e65be5315"
      },
      "outputs": [
        {
          "name": "stdout",
          "output_type": "stream",
          "text": [
            "['101' '102' '103' '104' '105' '106' '107' '108' '11' '111' '112' '12'\n",
            " '120' '131' '132' '133' '134' '139' '14' '141' '142' '143' '144' '151'\n",
            " '152' '161' '162' '163' '171' '172' '179' '181' '182' '191' '192' '20'\n",
            " '201' '202' '203' '204' '205' '211' '212' '213' '221' '222' '231' '232'\n",
            " '233' '239' '241' '242' '243' '251' '252' '259' '261' '262' '263' '264'\n",
            " '265' '266' '271' '272' '273' '274' '281' '282' '283' '284' '285' '289'\n",
            " '291' '292' '301' '302' '303' '304' '31' '311' '312' '313' '319' '32'\n",
            " '320' '331' '332' '333' '334' '339' '340' '351' '352' '353' '360' '370'\n",
            " '381' '382' '383' '390' '411' '412' '421' '422' '423' '424' '425' '426'\n",
            " '451' '452' '453' '461' '462' '463' '464' '465' '466' '467' '468' '471'\n",
            " '472' '473' '474' '475' '476' '477' '478' '479' '491' '492' '493' '494'\n",
            " '495' '501' '502' '51' '511' '512' '521' '529' '551' '559' '561' '562'\n",
            " '581' '582' '591' '592' '601' '602' '61' '611' '612' '62' '620' '631'\n",
            " '639' '641' '642' '649' '651' '652' '653' '661' '662' '681' '682' '701'\n",
            " '702' '71' '711' '712' '713' '714' '715' '716' '72' '721' '729' '731'\n",
            " '732' '733' '739' '741' '742' '743' '751' '752' '753' '759' '761' '762'\n",
            " '763' '764' '80' '841' '842' '843' '844' '845' '851' '852' '853' '854'\n",
            " '855' '856' '857' '861' '862' '863' '869' '871' '872' '901' '902' '911'\n",
            " '912' '941' '942' '949' '951' '952' '953' '961' '969']\n",
            "(1000000, 225)\n"
          ]
        }
      ],
      "source": [
        "print(labels)\n",
        "y_train = le.transform(y_train)\n",
        "y_train = tf.keras.utils.to_categorical(y_train)\n",
        "print(y_train.shape) "
      ]
    },
    {
      "cell_type": "code",
      "execution_count": null,
      "metadata": {
        "colab": {
          "base_uri": "https://localhost:8080/"
        },
        "id": "aRI2oQDI1acs",
        "outputId": "1586edd1-55fc-41ed-ac36-3209fb29f075"
      },
      "outputs": [
        {
          "name": "stdout",
          "output_type": "stream",
          "text": [
            "패딩 결과 :\n",
            "[[  92   18   87 ...    0    0    0]\n",
            " [1141  183  147 ...    0    0    0]\n",
            " [  38  462  331 ...    0    0    0]\n",
            " ...\n",
            " [  42   14    0 ...    0    0    0]\n",
            " [ 562    0    0 ...    0    0    0]\n",
            " [  30 1177    0 ...    0    0    0]]\n",
            "y_train numclass (1000000, 225)\n"
          ]
        }
      ],
      "source": [
        "X_train = pad_sequences(X_encoded, maxlen=max_len, padding='post')\n",
        "print('패딩 결과 :')\n",
        "print(X_train)\n",
        "print('y_train numclass',y_train.shape)"
      ]
    },
    {
      "cell_type": "code",
      "execution_count": null,
      "metadata": {
        "colab": {
          "base_uri": "https://localhost:8080/"
        },
        "id": "utvDwoI-1e9c",
        "outputId": "645b853d-c1a4-444a-bad4-89c5a1b97a00"
      },
      "outputs": [
        {
          "name": "stdout",
          "output_type": "stream",
          "text": [
            "임베딩 행렬의 크기(shape) : (37117, 100)\n"
          ]
        }
      ],
      "source": [
        "# numclass = data['digit_3'].nunique()\n",
        "\n",
        "embedding_matrix = np.zeros((vocab_size, 100))\n",
        "print('임베딩 행렬의 크기(shape) :',np.shape(embedding_matrix))"
      ]
    },
    {
      "cell_type": "code",
      "execution_count": null,
      "metadata": {
        "id": "uXixGTMY1lSf"
      },
      "outputs": [],
      "source": [
        "for word, index in tokenizer.word_index.items():\n",
        "    # 단어와 맵핑되는 사전 훈련된 임베딩 벡터값\n",
        "    vector_value = get_vector(word)\n",
        "    if vector_value is not None:\n",
        "        embedding_matrix[index] = vector_value"
      ]
    },
    {
      "cell_type": "markdown",
      "metadata": {
        "id": "Zzq1n6r2BdXS"
      },
      "source": [
        "## PCA 100 -> 50"
      ]
    },
    {
      "cell_type": "code",
      "execution_count": null,
      "metadata": {
        "id": "UOJExvCV1pdM"
      },
      "outputs": [],
      "source": [
        "X = embedding_matrix\n",
        "X_reduced = compute_pca(X, n_components=50)"
      ]
    },
    {
      "cell_type": "code",
      "execution_count": null,
      "metadata": {
        "id": "ymJy12crBdXT"
      },
      "outputs": [],
      "source": [
        "y_train = y_train.astype(int)"
      ]
    },
    {
      "cell_type": "code",
      "execution_count": null,
      "metadata": {
        "colab": {
          "base_uri": "https://localhost:8080/"
        },
        "id": "ICUNuko7BdXT",
        "outputId": "aee47e42-e0d3-44c1-e630-ce3039ed36c7"
      },
      "outputs": [
        {
          "data": {
            "text/plain": [
              "(37117, 50)"
            ]
          },
          "execution_count": 34,
          "metadata": {},
          "output_type": "execute_result"
        }
      ],
      "source": [
        "X_reduced.shape"
      ]
    },
    {
      "cell_type": "code",
      "execution_count": null,
      "metadata": {
        "id": "CcSHf1vN2uuU"
      },
      "outputs": [],
      "source": [
        "del(X)"
      ]
    },
    {
      "cell_type": "markdown",
      "metadata": {
        "id": "3teURNLKBdXU"
      },
      "source": [
        "# fine tuning"
      ]
    },
    {
      "cell_type": "code",
      "execution_count": null,
      "metadata": {
        "colab": {
          "base_uri": "https://localhost:8080/"
        },
        "id": "-rhG1VLTBdXU",
        "outputId": "1ced3a91-7ba8-4ab0-994a-b99774bda3e6",
        "scrolled": true
      },
      "outputs": [
        {
          "name": "stdout",
          "output_type": "stream",
          "text": [
            "Requirement already satisfied: optuna in c:\\users\\seo\\anaconda3\\lib\\site-packages (2.10.0)\n",
            "Requirement already satisfied: scipy!=1.4.0 in c:\\users\\seo\\anaconda3\\lib\\site-packages (from optuna) (1.5.2)\n",
            "Requirement already satisfied: colorlog in c:\\users\\seo\\anaconda3\\lib\\site-packages (from optuna) (6.6.0)\n",
            "Requirement already satisfied: packaging>=20.0 in c:\\users\\seo\\anaconda3\\lib\\site-packages (from optuna) (20.4)\n",
            "Requirement already satisfied: PyYAML in c:\\users\\seo\\anaconda3\\lib\\site-packages (from optuna) (5.3.1)\n",
            "Requirement already satisfied: alembic in c:\\users\\seo\\anaconda3\\lib\\site-packages (from optuna) (1.7.7)\n",
            "Requirement already satisfied: tqdm in c:\\users\\seo\\anaconda3\\lib\\site-packages (from optuna) (4.50.2)\n",
            "Requirement already satisfied: numpy in c:\\users\\seo\\anaconda3\\lib\\site-packages (from optuna) (1.22.3)\n",
            "Requirement already satisfied: cliff in c:\\users\\seo\\anaconda3\\lib\\site-packages (from optuna) (3.10.1)\n",
            "Requirement already satisfied: sqlalchemy>=1.1.0 in c:\\users\\seo\\anaconda3\\lib\\site-packages (from optuna) (1.3.20)\n",
            "Requirement already satisfied: cmaes>=0.8.2 in c:\\users\\seo\\anaconda3\\lib\\site-packages (from optuna) (0.8.2)\n",
            "Requirement already satisfied: colorama; sys_platform == \"win32\" in c:\\users\\seo\\anaconda3\\lib\\site-packages (from colorlog->optuna) (0.4.4)\n",
            "Requirement already satisfied: six in c:\\users\\seo\\anaconda3\\lib\\site-packages (from packaging>=20.0->optuna) (1.15.0)\n",
            "Requirement already satisfied: pyparsing>=2.0.2 in c:\\users\\seo\\anaconda3\\lib\\site-packages (from packaging>=20.0->optuna) (2.4.7)\n",
            "Requirement already satisfied: importlib-resources; python_version < \"3.9\" in c:\\users\\seo\\anaconda3\\lib\\site-packages (from alembic->optuna) (5.6.0)\n",
            "Requirement already satisfied: importlib-metadata; python_version < \"3.9\" in c:\\users\\seo\\anaconda3\\lib\\site-packages (from alembic->optuna) (4.11.3)\n",
            "Requirement already satisfied: Mako in c:\\users\\seo\\anaconda3\\lib\\site-packages (from alembic->optuna) (1.2.0)\n",
            "Requirement already satisfied: cmd2>=1.0.0 in c:\\users\\seo\\anaconda3\\lib\\site-packages (from cliff->optuna) (2.4.0)\n",
            "Requirement already satisfied: autopage>=0.4.0 in c:\\users\\seo\\anaconda3\\lib\\site-packages (from cliff->optuna) (0.5.0)\n",
            "Requirement already satisfied: stevedore>=2.0.1 in c:\\users\\seo\\anaconda3\\lib\\site-packages (from cliff->optuna) (3.5.0)\n",
            "Requirement already satisfied: pbr!=2.1.0,>=2.0.0 in c:\\users\\seo\\anaconda3\\lib\\site-packages (from cliff->optuna) (5.8.1)\n",
            "Requirement already satisfied: PrettyTable>=0.7.2 in c:\\users\\seo\\anaconda3\\lib\\site-packages (from cliff->optuna) (3.2.0)\n",
            "Requirement already satisfied: zipp>=3.1.0; python_version < \"3.10\" in c:\\users\\seo\\anaconda3\\lib\\site-packages (from importlib-resources; python_version < \"3.9\"->alembic->optuna) (3.4.0)\n",
            "Requirement already satisfied: MarkupSafe>=0.9.2 in c:\\users\\seo\\anaconda3\\lib\\site-packages (from Mako->alembic->optuna) (1.1.1)\n",
            "Requirement already satisfied: wcwidth>=0.1.7 in c:\\users\\seo\\anaconda3\\lib\\site-packages (from cmd2>=1.0.0->cliff->optuna) (0.2.5)\n",
            "Requirement already satisfied: pyperclip>=1.6 in c:\\users\\seo\\anaconda3\\lib\\site-packages (from cmd2>=1.0.0->cliff->optuna) (1.8.2)\n",
            "Requirement already satisfied: pyreadline3; sys_platform == \"win32\" in c:\\users\\seo\\anaconda3\\lib\\site-packages (from cmd2>=1.0.0->cliff->optuna) (3.4.1)\n",
            "Requirement already satisfied: attrs>=16.3.0 in c:\\users\\seo\\anaconda3\\lib\\site-packages (from cmd2>=1.0.0->cliff->optuna) (20.3.0)\n"
          ]
        }
      ],
      "source": [
        "!pip install optuna"
      ]
    },
    {
      "cell_type": "code",
      "execution_count": null,
      "metadata": {
        "id": "dAJ_I_fs1uFU"
      },
      "outputs": [],
      "source": [
        "from tensorflow.keras.models import Sequential\n",
        "from tensorflow.keras.layers import Input, Activation, Dropout, LSTM, Dense,Conv1D,MaxPooling1D,Embedding,Flatten\n",
        "from tensorflow.keras import layers\n",
        "from tensorflow.keras import utils\n",
        "from tensorflow.keras.callbacks import EarlyStopping\n",
        "import tensorflow as tf\n",
        "\n",
        "\n",
        "def build_cnn_lstm2(recurrent_dropout = 0.5,dropout=0.5,):\n",
        "    with tf.device('/gpu:0'):\n",
        "        model = Sequential()\n",
        "\n",
        "        model.add(Input(shape=(max_len,)))\n",
        "        e = Embedding(vocab_size,output_dim =50,  weights=[X_reduced], input_length=max_len, trainable=False)\n",
        "        model.add(e)\n",
        "\n",
        "        model.add(Conv1D(filters=64, kernel_size=3, padding='same', activation='relu'))\n",
        "        model.add(MaxPooling1D(pool_size=2))\n",
        "        model.add(Dropout(dropout))\n",
        "\n",
        "        model.add(Conv1D(filters=32, kernel_size=3, padding='same', activation='relu'))\n",
        "        model.add(MaxPooling1D(pool_size=2))\n",
        "\n",
        "        model.add(LSTM(256, recurrent_dropout=recurrent_dropout,activation='tanh',kernel_initializer=\"he_normal\",unroll=True,return_sequences=True))\n",
        "        model.add(Dropout(dropout))\n",
        "\n",
        "        model.add(LSTM(512, recurrent_dropout=recurrent_dropout,activation='tanh',kernel_initializer=\"he_normal\",unroll=True))\n",
        "        model.add(Dropout(dropout))\n",
        "\n",
        "        model.add(Flatten())\n",
        "        model.add(Dense(y_train.shape[1], activation='softmax'))\n",
        "        # adam = tf.keras.optimizers.Adam(learning_rate = 1e-5)\n",
        "        \n",
        "\n",
        "        return model"
      ]
    },
    {
      "cell_type": "code",
      "execution_count": null,
      "metadata": {
        "id": "9vigO9OrBdXW"
      },
      "outputs": [],
      "source": [
        "from sklearn.model_selection import StratifiedKFold , KFold\n",
        "is_holdout = False\n",
        "n_splits = 5\n",
        "cv = KFold(n_splits=n_splits, shuffle=True)\n",
        "\n",
        "optimizer = tf.keras.optimizers.Adam(learning_rate = 8.382620250945622e-05)"
      ]
    },
    {
      "cell_type": "code",
      "execution_count": null,
      "metadata": {
        "colab": {
          "base_uri": "https://localhost:8080/"
        },
        "id": "atDtX6uWvdBF",
        "outputId": "963ce96e-7452-44a2-c15e-285446581592",
        "scrolled": true
      },
      "outputs": [
        {
          "name": "stdout",
          "output_type": "stream",
          "text": [
            "WARNING:tensorflow:Layer lstm_2 will not use cuDNN kernels since it doesn't meet the criteria. It will use a generic GPU kernel as fallback when running on GPU.\n",
            "WARNING:tensorflow:Layer lstm_3 will not use cuDNN kernels since it doesn't meet the criteria. It will use a generic GPU kernel as fallback when running on GPU.\n",
            "Epoch 1/40\n",
            "7548/7548 [==============================] - 489s 64ms/step - loss: 1.7611 - accuracy: 0.5748 - val_loss: 0.9440 - val_accuracy: 0.7571\n",
            "Epoch 2/40\n",
            "7548/7548 [==============================] - 465s 62ms/step - loss: 1.1057 - accuracy: 0.7163 - val_loss: 0.7665 - val_accuracy: 0.7985\n",
            "Epoch 3/40\n",
            "7548/7548 [==============================] - 468s 62ms/step - loss: 0.9581 - accuracy: 0.7518 - val_loss: 0.6892 - val_accuracy: 0.8188\n",
            "Epoch 4/40\n",
            "7548/7548 [==============================] - 467s 62ms/step - loss: 0.8843 - accuracy: 0.7704 - val_loss: 0.6471 - val_accuracy: 0.8298\n",
            "Epoch 5/40\n",
            "7548/7548 [==============================] - 466s 62ms/step - loss: 0.8377 - accuracy: 0.7821 - val_loss: 0.6202 - val_accuracy: 0.8367\n",
            "Epoch 6/40\n",
            "7548/7548 [==============================] - 469s 62ms/step - loss: 0.8041 - accuracy: 0.7899 - val_loss: 0.6026 - val_accuracy: 0.8408\n",
            "Epoch 7/40\n",
            "7548/7548 [==============================] - 467s 62ms/step - loss: 0.7833 - accuracy: 0.7953 - val_loss: 0.5885 - val_accuracy: 0.8447\n",
            "Epoch 8/40\n",
            "7548/7548 [==============================] - 469s 62ms/step - loss: 0.7638 - accuracy: 0.8002 - val_loss: 0.5741 - val_accuracy: 0.8481\n",
            "Epoch 9/40\n",
            "7548/7548 [==============================] - 468s 62ms/step - loss: 0.7493 - accuracy: 0.8034 - val_loss: 0.5668 - val_accuracy: 0.8495\n",
            "Epoch 10/40\n",
            "7548/7548 [==============================] - 467s 62ms/step - loss: 0.7371 - accuracy: 0.8068 - val_loss: 0.5571 - val_accuracy: 0.8522\n",
            "Epoch 11/40\n",
            "7548/7548 [==============================] - 466s 62ms/step - loss: 0.7270 - accuracy: 0.8091 - val_loss: 0.5492 - val_accuracy: 0.8540\n",
            "Epoch 12/40\n",
            "7548/7548 [==============================] - 469s 62ms/step - loss: 0.7171 - accuracy: 0.8121 - val_loss: 0.5443 - val_accuracy: 0.8555\n",
            "Epoch 13/40\n",
            "7548/7548 [==============================] - 471s 62ms/step - loss: 0.7102 - accuracy: 0.8135 - val_loss: 0.5387 - val_accuracy: 0.8564\n",
            "Epoch 14/40\n",
            "7548/7548 [==============================] - 469s 62ms/step - loss: 0.7034 - accuracy: 0.8148 - val_loss: 0.5344 - val_accuracy: 0.8576\n",
            "Epoch 15/40\n",
            "7548/7548 [==============================] - 467s 62ms/step - loss: 0.6967 - accuracy: 0.8168 - val_loss: 0.5309 - val_accuracy: 0.8586\n",
            "Epoch 16/40\n",
            "7548/7548 [==============================] - 466s 62ms/step - loss: 0.6907 - accuracy: 0.8183 - val_loss: 0.5261 - val_accuracy: 0.8599\n",
            "Epoch 17/40\n",
            "7548/7548 [==============================] - 468s 62ms/step - loss: 0.6871 - accuracy: 0.8192 - val_loss: 0.5234 - val_accuracy: 0.8606\n",
            "Epoch 18/40\n",
            "7548/7548 [==============================] - 469s 62ms/step - loss: 0.6813 - accuracy: 0.8209 - val_loss: 0.5199 - val_accuracy: 0.8614\n",
            "Epoch 19/40\n",
            "7548/7548 [==============================] - 465s 62ms/step - loss: 0.6767 - accuracy: 0.8215 - val_loss: 0.5199 - val_accuracy: 0.8618\n",
            "Epoch 20/40\n",
            "7548/7548 [==============================] - 463s 61ms/step - loss: 0.6733 - accuracy: 0.8224 - val_loss: 0.5150 - val_accuracy: 0.8623\n",
            "Epoch 21/40\n",
            "7548/7548 [==============================] - 468s 62ms/step - loss: 0.6696 - accuracy: 0.8233 - val_loss: 0.5144 - val_accuracy: 0.8626\n",
            "Epoch 22/40\n",
            "7548/7548 [==============================] - 468s 62ms/step - loss: 0.6669 - accuracy: 0.8241 - val_loss: 0.5122 - val_accuracy: 0.8637\n",
            "Epoch 23/40\n",
            "7548/7548 [==============================] - 468s 62ms/step - loss: 0.6627 - accuracy: 0.8250 - val_loss: 0.5078 - val_accuracy: 0.8642\n",
            "Epoch 24/40\n",
            "7548/7548 [==============================] - 468s 62ms/step - loss: 0.6607 - accuracy: 0.8255 - val_loss: 0.5082 - val_accuracy: 0.8650\n",
            "Epoch 25/40\n",
            "7548/7548 [==============================] - 467s 62ms/step - loss: 0.6574 - accuracy: 0.8263 - val_loss: 0.5058 - val_accuracy: 0.8651\n",
            "Epoch 26/40\n",
            "7548/7548 [==============================] - 465s 62ms/step - loss: 0.6564 - accuracy: 0.8267 - val_loss: 0.5051 - val_accuracy: 0.8657\n",
            "Epoch 27/40\n",
            "7548/7548 [==============================] - 466s 62ms/step - loss: 0.6547 - accuracy: 0.8274 - val_loss: 0.5021 - val_accuracy: 0.8659\n",
            "Epoch 28/40\n",
            "7548/7548 [==============================] - 468s 62ms/step - loss: 0.6518 - accuracy: 0.8278 - val_loss: 0.5021 - val_accuracy: 0.8658\n",
            "Epoch 29/40\n",
            "7548/7548 [==============================] - 467s 62ms/step - loss: 0.6493 - accuracy: 0.8282 - val_loss: 0.5004 - val_accuracy: 0.8664\n",
            "Epoch 30/40\n",
            "7548/7548 [==============================] - 472s 63ms/step - loss: 0.6463 - accuracy: 0.8290 - val_loss: 0.4986 - val_accuracy: 0.8666\n",
            "Epoch 31/40\n",
            "7548/7548 [==============================] - 465s 62ms/step - loss: 0.6445 - accuracy: 0.8295 - val_loss: 0.4991 - val_accuracy: 0.8668\n",
            "Epoch 32/40\n",
            "7548/7548 [==============================] - 467s 62ms/step - loss: 0.6421 - accuracy: 0.8302 - val_loss: 0.4956 - val_accuracy: 0.8670\n",
            "Epoch 33/40\n",
            "7548/7548 [==============================] - 464s 62ms/step - loss: 0.6409 - accuracy: 0.8306 - val_loss: 0.4974 - val_accuracy: 0.8673\n",
            "Epoch 34/40\n",
            "7548/7548 [==============================] - 467s 62ms/step - loss: 0.6397 - accuracy: 0.8305 - val_loss: 0.4935 - val_accuracy: 0.8679\n",
            "Epoch 35/40\n",
            "7548/7548 [==============================] - 464s 61ms/step - loss: 0.6374 - accuracy: 0.8313 - val_loss: 0.4943 - val_accuracy: 0.8676\n",
            "Epoch 36/40\n",
            "7548/7548 [==============================] - 465s 62ms/step - loss: 0.6371 - accuracy: 0.8315 - val_loss: 0.4931 - val_accuracy: 0.8681\n",
            "Epoch 37/40\n",
            "7548/7548 [==============================] - 463s 61ms/step - loss: 0.6340 - accuracy: 0.8318 - val_loss: 0.4900 - val_accuracy: 0.8685\n",
            "Epoch 38/40\n",
            "7548/7548 [==============================] - 466s 62ms/step - loss: 0.6328 - accuracy: 0.8325 - val_loss: 0.4895 - val_accuracy: 0.8685\n",
            "Epoch 39/40\n",
            "7548/7548 [==============================] - 465s 62ms/step - loss: 0.6305 - accuracy: 0.8328 - val_loss: 0.4894 - val_accuracy: 0.8687\n",
            "Epoch 40/40\n",
            "7548/7548 [==============================] - 465s 62ms/step - loss: 0.6307 - accuracy: 0.8325 - val_loss: 0.4887 - val_accuracy: 0.8686\n",
            "WARNING:tensorflow:Layer lstm_4 will not use cuDNN kernels since it doesn't meet the criteria. It will use a generic GPU kernel as fallback when running on GPU.\n",
            "WARNING:tensorflow:Layer lstm_5 will not use cuDNN kernels since it doesn't meet the criteria. It will use a generic GPU kernel as fallback when running on GPU.\n",
            "Epoch 1/40\n",
            "7548/7548 [==============================] - 477s 62ms/step - loss: 1.5933 - accuracy: 0.6034 - val_loss: 0.9418 - val_accuracy: 0.7567\n",
            "Epoch 2/40\n",
            "7548/7548 [==============================] - 467s 62ms/step - loss: 1.1046 - accuracy: 0.7154 - val_loss: 0.7687 - val_accuracy: 0.7994\n",
            "Epoch 3/40\n",
            "7548/7548 [==============================] - 466s 62ms/step - loss: 0.9596 - accuracy: 0.7509 - val_loss: 0.6898 - val_accuracy: 0.8195\n",
            "Epoch 4/40\n",
            "7548/7548 [==============================] - 464s 61ms/step - loss: 0.8829 - accuracy: 0.7697 - val_loss: 0.6507 - val_accuracy: 0.8302\n",
            "Epoch 5/40\n",
            "7548/7548 [==============================] - 459s 61ms/step - loss: 0.8369 - accuracy: 0.7816 - val_loss: 0.6216 - val_accuracy: 0.8368\n",
            "Epoch 6/40\n",
            "7548/7548 [==============================] - 468s 62ms/step - loss: 0.8060 - accuracy: 0.7892 - val_loss: 0.6045 - val_accuracy: 0.8415\n",
            "Epoch 7/40\n",
            "7548/7548 [==============================] - 462s 61ms/step - loss: 0.7806 - accuracy: 0.7958 - val_loss: 0.5893 - val_accuracy: 0.8457\n",
            "Epoch 8/40\n",
            "7548/7548 [==============================] - 465s 62ms/step - loss: 0.7623 - accuracy: 0.7999 - val_loss: 0.5765 - val_accuracy: 0.8479\n",
            "Epoch 9/40\n",
            "7548/7548 [==============================] - 464s 61ms/step - loss: 0.7473 - accuracy: 0.8038 - val_loss: 0.5684 - val_accuracy: 0.8508\n",
            "Epoch 10/40\n",
            "7548/7548 [==============================] - 466s 62ms/step - loss: 0.7361 - accuracy: 0.8066 - val_loss: 0.5592 - val_accuracy: 0.8526\n",
            "Epoch 11/40\n",
            "7548/7548 [==============================] - 461s 61ms/step - loss: 0.7258 - accuracy: 0.8092 - val_loss: 0.5519 - val_accuracy: 0.8545\n",
            "Epoch 12/40\n"
          ]
        },
        {
          "name": "stdout",
          "output_type": "stream",
          "text": [
            "7548/7548 [==============================] - 463s 61ms/step - loss: 0.7162 - accuracy: 0.8116 - val_loss: 0.5467 - val_accuracy: 0.8556\n",
            "Epoch 13/40\n",
            "7548/7548 [==============================] - 472s 63ms/step - loss: 0.7099 - accuracy: 0.8135 - val_loss: 0.5421 - val_accuracy: 0.8577\n",
            "Epoch 14/40\n",
            "7548/7548 [==============================] - 471s 62ms/step - loss: 0.7026 - accuracy: 0.8146 - val_loss: 0.5377 - val_accuracy: 0.8591\n",
            "Epoch 15/40\n",
            "7548/7548 [==============================] - 468s 62ms/step - loss: 0.6969 - accuracy: 0.8165 - val_loss: 0.5345 - val_accuracy: 0.8594\n",
            "Epoch 16/40\n",
            "7548/7548 [==============================] - 480s 64ms/step - loss: 0.6916 - accuracy: 0.8177 - val_loss: 0.5326 - val_accuracy: 0.8606\n",
            "Epoch 17/40\n",
            "7548/7548 [==============================] - 479s 63ms/step - loss: 0.6854 - accuracy: 0.8194 - val_loss: 0.5279 - val_accuracy: 0.8613\n",
            "Epoch 18/40\n",
            "7548/7548 [==============================] - 478s 63ms/step - loss: 0.6819 - accuracy: 0.8201 - val_loss: 0.5239 - val_accuracy: 0.8622\n",
            "Epoch 19/40\n",
            "7548/7548 [==============================] - 475s 63ms/step - loss: 0.6775 - accuracy: 0.8215 - val_loss: 0.5224 - val_accuracy: 0.8625\n",
            "Epoch 20/40\n",
            "7548/7548 [==============================] - 480s 64ms/step - loss: 0.6723 - accuracy: 0.8227 - val_loss: 0.5206 - val_accuracy: 0.8629\n",
            "Epoch 21/40\n",
            "7548/7548 [==============================] - 476s 63ms/step - loss: 0.6689 - accuracy: 0.8231 - val_loss: 0.5154 - val_accuracy: 0.8641\n",
            "Epoch 22/40\n",
            "7548/7548 [==============================] - 480s 64ms/step - loss: 0.6674 - accuracy: 0.8238 - val_loss: 0.5146 - val_accuracy: 0.8637\n",
            "Epoch 23/40\n",
            "7548/7548 [==============================] - 480s 64ms/step - loss: 0.6646 - accuracy: 0.8244 - val_loss: 0.5125 - val_accuracy: 0.8646\n",
            "Epoch 24/40\n",
            "7548/7548 [==============================] - 478s 63ms/step - loss: 0.6610 - accuracy: 0.8258 - val_loss: 0.5098 - val_accuracy: 0.8654\n",
            "Epoch 25/40\n",
            "7548/7548 [==============================] - 477s 63ms/step - loss: 0.6573 - accuracy: 0.8264 - val_loss: 0.5091 - val_accuracy: 0.8661\n",
            "Epoch 26/40\n",
            "7548/7548 [==============================] - 480s 64ms/step - loss: 0.6555 - accuracy: 0.8266 - val_loss: 0.5065 - val_accuracy: 0.8664\n",
            "Epoch 27/40\n",
            "7548/7548 [==============================] - 478s 63ms/step - loss: 0.6531 - accuracy: 0.8275 - val_loss: 0.5063 - val_accuracy: 0.8669\n",
            "Epoch 28/40\n",
            "7548/7548 [==============================] - 477s 63ms/step - loss: 0.6505 - accuracy: 0.8280 - val_loss: 0.5020 - val_accuracy: 0.8669\n",
            "Epoch 29/40\n",
            "7548/7548 [==============================] - 478s 63ms/step - loss: 0.6480 - accuracy: 0.8286 - val_loss: 0.5018 - val_accuracy: 0.8679\n",
            "Epoch 30/40\n",
            "7548/7548 [==============================] - 484s 64ms/step - loss: 0.6471 - accuracy: 0.8286 - val_loss: 0.5013 - val_accuracy: 0.8670\n",
            "Epoch 31/40\n",
            "7548/7548 [==============================] - 480s 64ms/step - loss: 0.6438 - accuracy: 0.8296 - val_loss: 0.4985 - val_accuracy: 0.8677\n",
            "Epoch 32/40\n",
            "7548/7548 [==============================] - 478s 63ms/step - loss: 0.6417 - accuracy: 0.8300 - val_loss: 0.4980 - val_accuracy: 0.8682\n",
            "Epoch 33/40\n",
            "7548/7548 [==============================] - 472s 62ms/step - loss: 0.6403 - accuracy: 0.8304 - val_loss: 0.4978 - val_accuracy: 0.8685\n",
            "Epoch 34/40\n",
            "7548/7548 [==============================] - 477s 63ms/step - loss: 0.6381 - accuracy: 0.8308 - val_loss: 0.4977 - val_accuracy: 0.8682\n",
            "Epoch 35/40\n",
            "7548/7548 [==============================] - 472s 63ms/step - loss: 0.6372 - accuracy: 0.8315 - val_loss: 0.4960 - val_accuracy: 0.8693\n",
            "Epoch 36/40\n",
            "7548/7548 [==============================] - 478s 63ms/step - loss: 0.6352 - accuracy: 0.8318 - val_loss: 0.4942 - val_accuracy: 0.8691\n",
            "Epoch 37/40\n",
            "7548/7548 [==============================] - 477s 63ms/step - loss: 0.6328 - accuracy: 0.8325 - val_loss: 0.4929 - val_accuracy: 0.8697\n",
            "Epoch 38/40\n",
            "7548/7548 [==============================] - 473s 63ms/step - loss: 0.6326 - accuracy: 0.8327 - val_loss: 0.4922 - val_accuracy: 0.8700\n",
            "Epoch 39/40\n",
            "7548/7548 [==============================] - 477s 63ms/step - loss: 0.6302 - accuracy: 0.8331 - val_loss: 0.4921 - val_accuracy: 0.8700\n",
            "Epoch 40/40\n",
            "7548/7548 [==============================] - 475s 63ms/step - loss: 0.6289 - accuracy: 0.8334 - val_loss: 0.4899 - val_accuracy: 0.8696\n",
            "WARNING:tensorflow:Layer lstm_6 will not use cuDNN kernels since it doesn't meet the criteria. It will use a generic GPU kernel as fallback when running on GPU.\n",
            "WARNING:tensorflow:Layer lstm_7 will not use cuDNN kernels since it doesn't meet the criteria. It will use a generic GPU kernel as fallback when running on GPU.\n",
            "Epoch 1/40\n",
            "7548/7548 [==============================] - 478s 62ms/step - loss: 1.5765 - accuracy: 0.6096 - val_loss: 0.8979 - val_accuracy: 0.7648\n",
            "Epoch 2/40\n",
            "7548/7548 [==============================] - 473s 63ms/step - loss: 1.0780 - accuracy: 0.7213 - val_loss: 0.7504 - val_accuracy: 0.8005\n",
            "Epoch 3/40\n",
            "7548/7548 [==============================] - 474s 63ms/step - loss: 0.9427 - accuracy: 0.7547 - val_loss: 0.6814 - val_accuracy: 0.8197\n",
            "Epoch 4/40\n",
            "7548/7548 [==============================] - 475s 63ms/step - loss: 0.8740 - accuracy: 0.7718 - val_loss: 0.6442 - val_accuracy: 0.8288\n",
            "Epoch 5/40\n",
            "7548/7548 [==============================] - 470s 62ms/step - loss: 0.8321 - accuracy: 0.7825 - val_loss: 0.6219 - val_accuracy: 0.8360\n",
            "Epoch 6/40\n",
            "7548/7548 [==============================] - 471s 62ms/step - loss: 0.8020 - accuracy: 0.7898 - val_loss: 0.6014 - val_accuracy: 0.8404\n",
            "Epoch 7/40\n",
            "7548/7548 [==============================] - 475s 63ms/step - loss: 0.7801 - accuracy: 0.7954 - val_loss: 0.5899 - val_accuracy: 0.8437\n",
            "Epoch 8/40\n",
            "7548/7548 [==============================] - 470s 62ms/step - loss: 0.7631 - accuracy: 0.7998 - val_loss: 0.5759 - val_accuracy: 0.8469\n",
            "Epoch 9/40\n",
            "7548/7548 [==============================] - 472s 62ms/step - loss: 0.7488 - accuracy: 0.8032 - val_loss: 0.5707 - val_accuracy: 0.8496\n",
            "Epoch 10/40\n",
            "7548/7548 [==============================] - 469s 62ms/step - loss: 0.7365 - accuracy: 0.8068 - val_loss: 0.5604 - val_accuracy: 0.8515\n",
            "Epoch 11/40\n",
            "7548/7548 [==============================] - 469s 62ms/step - loss: 0.7285 - accuracy: 0.8088 - val_loss: 0.5526 - val_accuracy: 0.8539\n",
            "Epoch 12/40\n",
            "7548/7548 [==============================] - 467s 62ms/step - loss: 0.7184 - accuracy: 0.8108 - val_loss: 0.5490 - val_accuracy: 0.8552\n",
            "Epoch 13/40\n",
            "7548/7548 [==============================] - 469s 62ms/step - loss: 0.7108 - accuracy: 0.8129 - val_loss: 0.5416 - val_accuracy: 0.8565\n",
            "Epoch 14/40\n",
            "7548/7548 [==============================] - 472s 63ms/step - loss: 0.7047 - accuracy: 0.8148 - val_loss: 0.5401 - val_accuracy: 0.8568\n",
            "Epoch 15/40\n",
            "7548/7548 [==============================] - 466s 62ms/step - loss: 0.6971 - accuracy: 0.8165 - val_loss: 0.5347 - val_accuracy: 0.8585\n",
            "Epoch 16/40\n",
            "7548/7548 [==============================] - 473s 63ms/step - loss: 0.6935 - accuracy: 0.8178 - val_loss: 0.5316 - val_accuracy: 0.8595\n",
            "Epoch 17/40\n",
            "7548/7548 [==============================] - 469s 62ms/step - loss: 0.6870 - accuracy: 0.8187 - val_loss: 0.5274 - val_accuracy: 0.8606\n",
            "Epoch 18/40\n",
            "7548/7548 [==============================] - 473s 63ms/step - loss: 0.6828 - accuracy: 0.8204 - val_loss: 0.5241 - val_accuracy: 0.8611\n",
            "Epoch 19/40\n",
            "7548/7548 [==============================] - 493s 65ms/step - loss: 0.6793 - accuracy: 0.8209 - val_loss: 0.5206 - val_accuracy: 0.8616\n",
            "Epoch 20/40\n",
            "7548/7548 [==============================] - 486s 64ms/step - loss: 0.6754 - accuracy: 0.8215 - val_loss: 0.5201 - val_accuracy: 0.8619\n",
            "Epoch 21/40\n",
            "7548/7548 [==============================] - 478s 63ms/step - loss: 0.6713 - accuracy: 0.8230 - val_loss: 0.5156 - val_accuracy: 0.8630\n",
            "Epoch 22/40\n",
            "7548/7548 [==============================] - 489s 65ms/step - loss: 0.6679 - accuracy: 0.8238 - val_loss: 0.5163 - val_accuracy: 0.8630\n",
            "Epoch 23/40\n",
            "7548/7548 [==============================] - 503s 67ms/step - loss: 0.6662 - accuracy: 0.8242 - val_loss: 0.5126 - val_accuracy: 0.8638\n",
            "Epoch 24/40\n",
            "7548/7548 [==============================] - 864s 114ms/step - loss: 0.6626 - accuracy: 0.8250 - val_loss: 0.5092 - val_accuracy: 0.8645\n",
            "Epoch 25/40\n"
          ]
        },
        {
          "name": "stdout",
          "output_type": "stream",
          "text": [
            "7548/7548 [==============================] - 478s 63ms/step - loss: 0.6601 - accuracy: 0.8257 - val_loss: 0.5084 - val_accuracy: 0.8649\n",
            "Epoch 26/40\n",
            "7548/7548 [==============================] - 471s 62ms/step - loss: 0.6574 - accuracy: 0.8264 - val_loss: 0.5068 - val_accuracy: 0.8648\n",
            "Epoch 27/40\n",
            "7548/7548 [==============================] - 474s 63ms/step - loss: 0.6553 - accuracy: 0.8266 - val_loss: 0.5054 - val_accuracy: 0.8653\n",
            "Epoch 28/40\n",
            "7548/7548 [==============================] - 513s 68ms/step - loss: 0.6526 - accuracy: 0.8273 - val_loss: 0.5062 - val_accuracy: 0.8658\n",
            "Epoch 29/40\n",
            "7548/7548 [==============================] - 475s 63ms/step - loss: 0.6508 - accuracy: 0.8285 - val_loss: 0.5025 - val_accuracy: 0.8663\n",
            "Epoch 30/40\n",
            "7548/7548 [==============================] - 481s 64ms/step - loss: 0.6494 - accuracy: 0.8283 - val_loss: 0.5024 - val_accuracy: 0.8667\n",
            "Epoch 31/40\n",
            "7548/7548 [==============================] - 487s 65ms/step - loss: 0.6470 - accuracy: 0.8286 - val_loss: 0.5014 - val_accuracy: 0.8663\n",
            "Epoch 32/40\n",
            "7548/7548 [==============================] - 478s 63ms/step - loss: 0.6459 - accuracy: 0.8296 - val_loss: 0.5002 - val_accuracy: 0.8673\n",
            "Epoch 33/40\n",
            "7548/7548 [==============================] - 475s 63ms/step - loss: 0.6430 - accuracy: 0.8299 - val_loss: 0.5019 - val_accuracy: 0.8665\n",
            "Epoch 34/40\n",
            "7548/7548 [==============================] - 475s 63ms/step - loss: 0.6422 - accuracy: 0.8300 - val_loss: 0.4976 - val_accuracy: 0.8674\n",
            "Epoch 35/40\n",
            "7548/7548 [==============================] - 473s 63ms/step - loss: 0.6396 - accuracy: 0.8305 - val_loss: 0.4972 - val_accuracy: 0.8673\n",
            "Epoch 36/40\n",
            "7548/7548 [==============================] - 473s 63ms/step - loss: 0.6380 - accuracy: 0.8313 - val_loss: 0.4941 - val_accuracy: 0.8684\n",
            "Epoch 37/40\n",
            "7548/7548 [==============================] - 478s 63ms/step - loss: 0.6374 - accuracy: 0.8314 - val_loss: 0.4954 - val_accuracy: 0.8678\n",
            "Epoch 38/40\n",
            "7548/7548 [==============================] - 473s 63ms/step - loss: 0.6350 - accuracy: 0.8318 - val_loss: 0.4936 - val_accuracy: 0.8681\n",
            "Epoch 39/40\n",
            "7548/7548 [==============================] - 477s 63ms/step - loss: 0.6343 - accuracy: 0.8318 - val_loss: 0.4933 - val_accuracy: 0.8688\n",
            "Epoch 40/40\n",
            "7548/7548 [==============================] - 479s 64ms/step - loss: 0.6338 - accuracy: 0.8324 - val_loss: 0.4922 - val_accuracy: 0.8692\n",
            "WARNING:tensorflow:Layer lstm_8 will not use cuDNN kernels since it doesn't meet the criteria. It will use a generic GPU kernel as fallback when running on GPU.\n",
            "WARNING:tensorflow:Layer lstm_9 will not use cuDNN kernels since it doesn't meet the criteria. It will use a generic GPU kernel as fallback when running on GPU.\n",
            "Epoch 1/40\n",
            "7548/7548 [==============================] - 487s 63ms/step - loss: 1.6075 - accuracy: 0.5977 - val_loss: 0.9181 - val_accuracy: 0.7619\n",
            "Epoch 2/40\n",
            "7548/7548 [==============================] - 478s 63ms/step - loss: 1.0902 - accuracy: 0.7174 - val_loss: 0.7583 - val_accuracy: 0.7991\n",
            "Epoch 3/40\n",
            "7548/7548 [==============================] - 483s 64ms/step - loss: 0.9504 - accuracy: 0.7524 - val_loss: 0.6840 - val_accuracy: 0.8188\n",
            "Epoch 4/40\n",
            "7548/7548 [==============================] - 482s 64ms/step - loss: 0.8765 - accuracy: 0.7702 - val_loss: 0.6450 - val_accuracy: 0.8287\n",
            "Epoch 5/40\n",
            "7548/7548 [==============================] - 482s 64ms/step - loss: 0.8303 - accuracy: 0.7824 - val_loss: 0.6209 - val_accuracy: 0.8358\n",
            "Epoch 6/40\n",
            "7548/7548 [==============================] - 479s 63ms/step - loss: 0.8007 - accuracy: 0.7902 - val_loss: 0.6019 - val_accuracy: 0.8408\n",
            "Epoch 7/40\n",
            "7548/7548 [==============================] - 477s 63ms/step - loss: 0.7773 - accuracy: 0.7959 - val_loss: 0.5846 - val_accuracy: 0.8457\n",
            "Epoch 8/40\n",
            "7548/7548 [==============================] - 475s 63ms/step - loss: 0.7580 - accuracy: 0.8005 - val_loss: 0.5750 - val_accuracy: 0.8485\n",
            "Epoch 9/40\n",
            "7548/7548 [==============================] - 473s 63ms/step - loss: 0.7448 - accuracy: 0.8037 - val_loss: 0.5647 - val_accuracy: 0.8516\n",
            "Epoch 10/40\n",
            "7548/7548 [==============================] - 481s 64ms/step - loss: 0.7338 - accuracy: 0.8069 - val_loss: 0.5608 - val_accuracy: 0.8518\n",
            "Epoch 11/40\n",
            "7548/7548 [==============================] - 478s 63ms/step - loss: 0.7222 - accuracy: 0.8101 - val_loss: 0.5526 - val_accuracy: 0.8537\n",
            "Epoch 12/40\n",
            "7548/7548 [==============================] - 473s 63ms/step - loss: 0.7156 - accuracy: 0.8111 - val_loss: 0.5472 - val_accuracy: 0.8558\n",
            "Epoch 13/40\n",
            "7548/7548 [==============================] - 478s 63ms/step - loss: 0.7057 - accuracy: 0.8135 - val_loss: 0.5419 - val_accuracy: 0.8562\n",
            "Epoch 14/40\n",
            "7548/7548 [==============================] - 479s 63ms/step - loss: 0.7017 - accuracy: 0.8152 - val_loss: 0.5381 - val_accuracy: 0.8577\n",
            "Epoch 15/40\n",
            "7548/7548 [==============================] - 476s 63ms/step - loss: 0.6935 - accuracy: 0.8176 - val_loss: 0.5345 - val_accuracy: 0.8591\n",
            "Epoch 16/40\n",
            "7548/7548 [==============================] - 476s 63ms/step - loss: 0.6883 - accuracy: 0.8187 - val_loss: 0.5320 - val_accuracy: 0.8599\n",
            "Epoch 17/40\n",
            "7548/7548 [==============================] - 476s 63ms/step - loss: 0.6841 - accuracy: 0.8196 - val_loss: 0.5263 - val_accuracy: 0.8603\n",
            "Epoch 18/40\n",
            "7548/7548 [==============================] - 475s 63ms/step - loss: 0.6795 - accuracy: 0.8208 - val_loss: 0.5236 - val_accuracy: 0.8614\n",
            "Epoch 19/40\n",
            "7548/7548 [==============================] - 480s 64ms/step - loss: 0.6766 - accuracy: 0.8216 - val_loss: 0.5211 - val_accuracy: 0.8622\n",
            "Epoch 20/40\n",
            "7548/7548 [==============================] - 494s 65ms/step - loss: 0.6705 - accuracy: 0.8229 - val_loss: 0.5196 - val_accuracy: 0.8621\n",
            "Epoch 21/40\n",
            "7548/7548 [==============================] - 491s 65ms/step - loss: 0.6693 - accuracy: 0.8230 - val_loss: 0.5171 - val_accuracy: 0.8629\n",
            "Epoch 22/40\n",
            "7548/7548 [==============================] - 481s 64ms/step - loss: 0.6641 - accuracy: 0.8242 - val_loss: 0.5171 - val_accuracy: 0.8629\n",
            "Epoch 23/40\n",
            "7548/7548 [==============================] - 479s 64ms/step - loss: 0.6631 - accuracy: 0.8250 - val_loss: 0.5145 - val_accuracy: 0.8641\n",
            "Epoch 24/40\n",
            "7548/7548 [==============================] - 478s 63ms/step - loss: 0.6595 - accuracy: 0.8257 - val_loss: 0.5115 - val_accuracy: 0.8636\n",
            "Epoch 25/40\n",
            "7548/7548 [==============================] - 477s 63ms/step - loss: 0.6568 - accuracy: 0.8264 - val_loss: 0.5100 - val_accuracy: 0.8650\n",
            "Epoch 26/40\n",
            "7548/7548 [==============================] - 480s 64ms/step - loss: 0.6533 - accuracy: 0.8272 - val_loss: 0.5075 - val_accuracy: 0.8648\n",
            "Epoch 27/40\n",
            "7548/7548 [==============================] - 478s 63ms/step - loss: 0.6513 - accuracy: 0.8274 - val_loss: 0.5070 - val_accuracy: 0.8656\n",
            "Epoch 28/40\n",
            "7548/7548 [==============================] - 485s 64ms/step - loss: 0.6510 - accuracy: 0.8278 - val_loss: 0.5045 - val_accuracy: 0.8656\n",
            "Epoch 29/40\n",
            "7548/7548 [==============================] - 481s 64ms/step - loss: 0.6458 - accuracy: 0.8293 - val_loss: 0.5069 - val_accuracy: 0.8659\n",
            "Epoch 30/40\n",
            "7548/7548 [==============================] - 481s 64ms/step - loss: 0.6457 - accuracy: 0.8295 - val_loss: 0.5028 - val_accuracy: 0.8667\n",
            "Epoch 31/40\n",
            "7548/7548 [==============================] - 483s 64ms/step - loss: 0.6435 - accuracy: 0.8292 - val_loss: 0.5003 - val_accuracy: 0.8672\n",
            "Epoch 32/40\n",
            "7548/7548 [==============================] - 486s 64ms/step - loss: 0.6414 - accuracy: 0.8302 - val_loss: 0.5001 - val_accuracy: 0.8674\n",
            "Epoch 33/40\n",
            "7548/7548 [==============================] - 479s 63ms/step - loss: 0.6391 - accuracy: 0.8305 - val_loss: 0.4998 - val_accuracy: 0.8674\n",
            "Epoch 34/40\n",
            "7548/7548 [==============================] - 492s 65ms/step - loss: 0.6382 - accuracy: 0.8306 - val_loss: 0.4977 - val_accuracy: 0.8676\n",
            "Epoch 35/40\n",
            "7548/7548 [==============================] - 497s 66ms/step - loss: 0.6369 - accuracy: 0.8313 - val_loss: 0.4961 - val_accuracy: 0.8678\n",
            "Epoch 36/40\n",
            "7548/7548 [==============================] - 499s 66ms/step - loss: 0.6352 - accuracy: 0.8322 - val_loss: 0.4969 - val_accuracy: 0.8683\n",
            "Epoch 37/40\n",
            "7548/7548 [==============================] - 501s 66ms/step - loss: 0.6331 - accuracy: 0.8324 - val_loss: 0.4935 - val_accuracy: 0.8685\n",
            "Epoch 38/40\n"
          ]
        },
        {
          "name": "stdout",
          "output_type": "stream",
          "text": [
            "7548/7548 [==============================] - 498s 66ms/step - loss: 0.6314 - accuracy: 0.8326 - val_loss: 0.4954 - val_accuracy: 0.8683\n",
            "Epoch 39/40\n",
            "7548/7548 [==============================] - 501s 66ms/step - loss: 0.6302 - accuracy: 0.8332 - val_loss: 0.4946 - val_accuracy: 0.8682\n",
            "Epoch 40/40\n",
            "7548/7548 [==============================] - 501s 66ms/step - loss: 0.6288 - accuracy: 0.8333 - val_loss: 0.4914 - val_accuracy: 0.8688\n",
            "WARNING:tensorflow:Layer lstm_10 will not use cuDNN kernels since it doesn't meet the criteria. It will use a generic GPU kernel as fallback when running on GPU.\n",
            "WARNING:tensorflow:Layer lstm_11 will not use cuDNN kernels since it doesn't meet the criteria. It will use a generic GPU kernel as fallback when running on GPU.\n",
            "Epoch 1/40\n",
            "7548/7548 [==============================] - 503s 66ms/step - loss: 1.5876 - accuracy: 0.6057 - val_loss: 0.9151 - val_accuracy: 0.7604\n",
            "Epoch 2/40\n",
            "7548/7548 [==============================] - 483s 64ms/step - loss: 1.0852 - accuracy: 0.7188 - val_loss: 0.7545 - val_accuracy: 0.8016\n",
            "Epoch 3/40\n",
            "7548/7548 [==============================] - 483s 64ms/step - loss: 0.9473 - accuracy: 0.7538 - val_loss: 0.6857 - val_accuracy: 0.8191\n",
            "Epoch 4/40\n",
            "7548/7548 [==============================] - 482s 64ms/step - loss: 0.8755 - accuracy: 0.7716 - val_loss: 0.6435 - val_accuracy: 0.8297\n",
            "Epoch 5/40\n",
            "7548/7548 [==============================] - 484s 64ms/step - loss: 0.8326 - accuracy: 0.7824 - val_loss: 0.6184 - val_accuracy: 0.8374\n",
            "Epoch 6/40\n",
            "7548/7548 [==============================] - 489s 65ms/step - loss: 0.8002 - accuracy: 0.7908 - val_loss: 0.5990 - val_accuracy: 0.8425\n",
            "Epoch 7/40\n",
            "7548/7548 [==============================] - 484s 64ms/step - loss: 0.7786 - accuracy: 0.7963 - val_loss: 0.5859 - val_accuracy: 0.8458\n",
            "Epoch 8/40\n",
            "7548/7548 [==============================] - 482s 64ms/step - loss: 0.7618 - accuracy: 0.8002 - val_loss: 0.5756 - val_accuracy: 0.8481\n",
            "Epoch 9/40\n",
            "7548/7548 [==============================] - 485s 64ms/step - loss: 0.7467 - accuracy: 0.8040 - val_loss: 0.5634 - val_accuracy: 0.8520\n",
            "Epoch 10/40\n",
            "7548/7548 [==============================] - 485s 64ms/step - loss: 0.7346 - accuracy: 0.8070 - val_loss: 0.5597 - val_accuracy: 0.8535\n",
            "Epoch 11/40\n",
            "7548/7548 [==============================] - 485s 64ms/step - loss: 0.7252 - accuracy: 0.8091 - val_loss: 0.5539 - val_accuracy: 0.8539\n",
            "Epoch 12/40\n",
            "7548/7548 [==============================] - 485s 64ms/step - loss: 0.7183 - accuracy: 0.8116 - val_loss: 0.5467 - val_accuracy: 0.8567\n",
            "Epoch 13/40\n",
            "7548/7548 [==============================] - 486s 64ms/step - loss: 0.7094 - accuracy: 0.8136 - val_loss: 0.5418 - val_accuracy: 0.8578\n",
            "Epoch 14/40\n",
            "7548/7548 [==============================] - 483s 64ms/step - loss: 0.7031 - accuracy: 0.8151 - val_loss: 0.5358 - val_accuracy: 0.8590\n",
            "Epoch 15/40\n",
            "7548/7548 [==============================] - 484s 64ms/step - loss: 0.6969 - accuracy: 0.8168 - val_loss: 0.5313 - val_accuracy: 0.8596\n",
            "Epoch 16/40\n",
            "7548/7548 [==============================] - 483s 64ms/step - loss: 0.6918 - accuracy: 0.8181 - val_loss: 0.5278 - val_accuracy: 0.8608\n",
            "Epoch 17/40\n",
            "7548/7548 [==============================] - 485s 64ms/step - loss: 0.6869 - accuracy: 0.8193 - val_loss: 0.5242 - val_accuracy: 0.8618\n",
            "Epoch 18/40\n",
            "7548/7548 [==============================] - 490s 65ms/step - loss: 0.6829 - accuracy: 0.8205 - val_loss: 0.5219 - val_accuracy: 0.8624\n",
            "Epoch 19/40\n",
            "7548/7548 [==============================] - 488s 65ms/step - loss: 0.6793 - accuracy: 0.8213 - val_loss: 0.5208 - val_accuracy: 0.8627\n",
            "Epoch 20/40\n",
            "7548/7548 [==============================] - 487s 64ms/step - loss: 0.6747 - accuracy: 0.8225 - val_loss: 0.5174 - val_accuracy: 0.8639\n",
            "Epoch 21/40\n",
            "7548/7548 [==============================] - 487s 65ms/step - loss: 0.6707 - accuracy: 0.8232 - val_loss: 0.5150 - val_accuracy: 0.8641\n",
            "Epoch 22/40\n",
            "7548/7548 [==============================] - 479s 63ms/step - loss: 0.6665 - accuracy: 0.8246 - val_loss: 0.5146 - val_accuracy: 0.8641\n",
            "Epoch 23/40\n",
            "7548/7548 [==============================] - 485s 64ms/step - loss: 0.6639 - accuracy: 0.8246 - val_loss: 0.5119 - val_accuracy: 0.8647\n",
            "Epoch 24/40\n",
            "7548/7548 [==============================] - 483s 64ms/step - loss: 0.6623 - accuracy: 0.8251 - val_loss: 0.5101 - val_accuracy: 0.8652\n",
            "Epoch 25/40\n",
            "7548/7548 [==============================] - 484s 64ms/step - loss: 0.6594 - accuracy: 0.8261 - val_loss: 0.5086 - val_accuracy: 0.8657\n",
            "Epoch 26/40\n",
            "7548/7548 [==============================] - 481s 64ms/step - loss: 0.6565 - accuracy: 0.8265 - val_loss: 0.5068 - val_accuracy: 0.8660\n",
            "Epoch 27/40\n",
            "7548/7548 [==============================] - 481s 64ms/step - loss: 0.6546 - accuracy: 0.8275 - val_loss: 0.5041 - val_accuracy: 0.8664\n",
            "Epoch 28/40\n",
            "7548/7548 [==============================] - 481s 64ms/step - loss: 0.6525 - accuracy: 0.8276 - val_loss: 0.5051 - val_accuracy: 0.8672\n",
            "Epoch 29/40\n",
            "7548/7548 [==============================] - 478s 63ms/step - loss: 0.6494 - accuracy: 0.8284 - val_loss: 0.5016 - val_accuracy: 0.8671\n",
            "Epoch 30/40\n",
            "7548/7548 [==============================] - 483s 64ms/step - loss: 0.6483 - accuracy: 0.8288 - val_loss: 0.4975 - val_accuracy: 0.8678\n",
            "Epoch 31/40\n",
            "7548/7548 [==============================] - 479s 63ms/step - loss: 0.6458 - accuracy: 0.8291 - val_loss: 0.4991 - val_accuracy: 0.8678\n",
            "Epoch 32/40\n",
            "7548/7548 [==============================] - 481s 64ms/step - loss: 0.6441 - accuracy: 0.8298 - val_loss: 0.4961 - val_accuracy: 0.8692\n",
            "Epoch 33/40\n",
            "7548/7548 [==============================] - 482s 64ms/step - loss: 0.6426 - accuracy: 0.8305 - val_loss: 0.4951 - val_accuracy: 0.8683\n",
            "Epoch 34/40\n",
            "7548/7548 [==============================] - 486s 64ms/step - loss: 0.6402 - accuracy: 0.8309 - val_loss: 0.4977 - val_accuracy: 0.8683\n",
            "Epoch 35/40\n",
            "7548/7548 [==============================] - 483s 64ms/step - loss: 0.6388 - accuracy: 0.8312 - val_loss: 0.4940 - val_accuracy: 0.8698\n",
            "Epoch 36/40\n",
            "7548/7548 [==============================] - 483s 64ms/step - loss: 0.6371 - accuracy: 0.8314 - val_loss: 0.4931 - val_accuracy: 0.8697\n",
            "Epoch 37/40\n",
            "7548/7548 [==============================] - 480s 64ms/step - loss: 0.6360 - accuracy: 0.8318 - val_loss: 0.4919 - val_accuracy: 0.8699\n",
            "Epoch 38/40\n",
            "7548/7548 [==============================] - 482s 64ms/step - loss: 0.6345 - accuracy: 0.8316 - val_loss: 0.4920 - val_accuracy: 0.8697\n",
            "Epoch 39/40\n",
            "7548/7548 [==============================] - 481s 64ms/step - loss: 0.6319 - accuracy: 0.8328 - val_loss: 0.4912 - val_accuracy: 0.8702\n",
            "Epoch 40/40\n",
            "7548/7548 [==============================] - 482s 64ms/step - loss: 0.6314 - accuracy: 0.8328 - val_loss: 0.4908 - val_accuracy: 0.8701\n"
          ]
        }
      ],
      "source": [
        "scores = []\n",
        "models = []\n",
        "\n",
        "for tri, vai in cv.split(X_train):\n",
        "    model = build_cnn_lstm2()\n",
        "    model.compile(loss='categorical_crossentropy', optimizer=optimizer, metrics=['accuracy'])\n",
        "    callbacks = [EarlyStopping(monitor='val_loss', patience=5)]\n",
        "    history = model.fit(X_train[tri], y_train[tri],\n",
        "                        validation_data=(X_train[vai], y_train[vai]),\n",
        "                        epochs=40,callbacks=callbacks,\n",
        "                        batch_size = 106, verbose=1) \n",
        "    models.append(model)\n",
        "    scores.append(history.history[\"accuracy\"])\n",
        "    if is_holdout:\n",
        "        break    "
      ]
    },
    {
      "cell_type": "code",
      "execution_count": null,
      "metadata": {
        "id": "iGUDLNXjSbXc"
      },
      "outputs": [],
      "source": [
        "from keras.models import load_model\n",
        "model.save('/content/drive/MyDrive/통계청_AI경진대회/final/data/mode_k_fold.h5')\n"
      ]
    },
    {
      "cell_type": "code",
      "execution_count": null,
      "metadata": {
        "id": "QXejllFxBdXX",
        "outputId": "848e63eb-3a6c-47e3-c2db-d89fd557049b"
      },
      "outputs": [
        {
          "name": "stdout",
          "output_type": "stream",
          "text": [
            "WARNING:tensorflow:Layer lstm_10 will not use cuDNN kernels since it doesn't meet the criteria. It will use a generic GPU kernel as fallback when running on GPU.\n",
            "WARNING:tensorflow:Layer lstm_11 will not use cuDNN kernels since it doesn't meet the criteria. It will use a generic GPU kernel as fallback when running on GPU.\n",
            "WARNING:tensorflow:Error in loading the saved optimizer state. As a result, your model is starting with a freshly initialized optimizer.\n"
          ]
        }
      ],
      "source": [
        "model = load_model('/content/drive/MyDrive/통계청_AI경진대회/final/data/mode_k_fold.h5')"
      ]
    },
    {
      "cell_type": "code",
      "execution_count": null,
      "metadata": {
        "id": "B1OTv-ipxmNF",
        "outputId": "61bddde3-a811-40e4-bcef-31be19091f67"
      },
      "outputs": [
        {
          "name": "stdout",
          "output_type": "stream",
          "text": [
            "[[0.5748075246810913, 0.7162912487983704, 0.7518012523651123, 0.7704062461853027, 0.782057523727417, 0.7899324893951416, 0.7953137755393982, 0.800163745880127, 0.8033524751663208, 0.8068000078201294, 0.8091149926185608, 0.8121437430381775, 0.8135137557983398, 0.8148425221443176, 0.8168274760246277, 0.8182799816131592, 0.819186270236969, 0.8209025263786316, 0.821524977684021, 0.822380006313324, 0.8232662677764893, 0.8241337537765503, 0.8249874711036682, 0.8254975080490112, 0.826259970664978, 0.8266987204551697, 0.8273587226867676, 0.8278312683105469, 0.8282062411308289, 0.828983724117279, 0.8294699788093567, 0.8301874995231628, 0.8306487202644348, 0.8304637670516968, 0.831250011920929, 0.8314974904060364, 0.8317912220954895, 0.8325275182723999, 0.8328225016593933, 0.8325087428092957], [0.6033812761306763, 0.7153674960136414, 0.7509474754333496, 0.7697362303733826, 0.7816449999809265, 0.7892312407493591, 0.7958325147628784, 0.7998862266540527, 0.8037599921226501, 0.8065549731254578, 0.8092125058174133, 0.8116400241851807, 0.813548743724823, 0.8146200180053711, 0.8164862394332886, 0.8176637291908264, 0.8194112777709961, 0.82014000415802, 0.8215224742889404, 0.8227224946022034, 0.8230812549591064, 0.8237900137901306, 0.8243774771690369, 0.8257837295532227, 0.826411247253418, 0.8266187310218811, 0.8274725079536438, 0.8280487656593323, 0.8285650014877319, 0.8285675048828125, 0.8296225070953369, 0.8299612402915955, 0.830442488193512, 0.8308437466621399, 0.8315187692642212, 0.8318225145339966, 0.8324512243270874, 0.8326837420463562, 0.8331137299537659, 0.8333550095558167], [0.6096087694168091, 0.721262514591217, 0.7547374963760376, 0.7717762589454651, 0.7825462222099304, 0.7898275256156921, 0.7954275012016296, 0.7997962236404419, 0.8031799793243408, 0.8067899942398071, 0.8087599873542786, 0.8108149766921997, 0.8128862380981445, 0.8147575259208679, 0.8164912462234497, 0.8178112506866455, 0.8187100291252136, 0.82037752866745, 0.8208712339401245, 0.8214824795722961, 0.8229862451553345, 0.8237937688827515, 0.8241962790489197, 0.8249750137329102, 0.8257499933242798, 0.8263800144195557, 0.8266425132751465, 0.8273400068283081, 0.828461229801178, 0.8282837271690369, 0.8286012411117554, 0.829604983329773, 0.8299487233161926, 0.8300062417984009, 0.8304774761199951, 0.8312637209892273, 0.8313949704170227, 0.8317924737930298, 0.8318349719047546, 0.8324074745178223], [0.5976787209510803, 0.7173600196838379, 0.7523624897003174, 0.7701687216758728, 0.7824262380599976, 0.7901912331581116, 0.7958987355232239, 0.8004775047302246, 0.8036500215530396, 0.8068774938583374, 0.8101037740707397, 0.8111025094985962, 0.8134549856185913, 0.8151512742042542, 0.8175612688064575, 0.8186525106430054, 0.8195675015449524, 0.8207637667655945, 0.8216187357902527, 0.8229012489318848, 0.822967529296875, 0.824236273765564, 0.8250287771224976, 0.8257175087928772, 0.826411247253418, 0.8271937370300293, 0.8274162411689758, 0.8277712464332581, 0.8292700052261353, 0.8295199871063232, 0.8292112350463867, 0.8301912546157837, 0.8304687738418579, 0.8305937647819519, 0.8313199877738953, 0.8321574926376343, 0.8323712348937988, 0.8325987458229065, 0.8331787586212158, 0.833261251449585], [0.6057375073432922, 0.7188287377357483, 0.7537887692451477, 0.7715774774551392, 0.7824112772941589, 0.7908375263214111, 0.7962912321090698, 0.8001912236213684, 0.8040187358856201, 0.8069775104522705, 0.809133768081665, 0.811641275882721, 0.8136374950408936, 0.8151475191116333, 0.8167974948883057, 0.8180599808692932, 0.8193487524986267, 0.8204812407493591, 0.8212724924087524, 0.8224537372589111, 0.8231800198554993, 0.8246175050735474, 0.8246187567710876, 0.8250762224197388, 0.8260637521743774, 0.8264700174331665, 0.827507495880127, 0.8275612592697144, 0.8283525109291077, 0.8288074731826782, 0.829143762588501, 0.8298412561416626, 0.830481231212616, 0.8309312462806702, 0.8312249779701233, 0.8313800096511841, 0.8317775130271912, 0.8316400051116943, 0.8327537775039673, 0.8327637314796448]]\n",
            "0.8090180546045304\n"
          ]
        }
      ],
      "source": [
        "print(scores)\n",
        "print(np.mean(scores))"
      ]
    },
    {
      "cell_type": "code",
      "execution_count": null,
      "metadata": {
        "id": "txrAu1UIBdXX",
        "outputId": "0f0012c0-3a06-472c-b75e-238ddaaf23cc"
      },
      "outputs": [
        {
          "data": {
            "image/png": "[encoded data removed]",
            "text/plain": [
              "<Figure size 432x288 with 1 Axes>"
            ]
          },
          "metadata": {
            "needs_background": "light"
          },
          "output_type": "display_data"
        }
      ],
      "source": [
        "import matplotlib.pyplot as plt\n",
        "plt.title('Loss')\n",
        "plt.plot(history.history['loss'], label='train')\n",
        "plt.plot(history.history['val_loss'], label='test')\n",
        "plt.legend()\n",
        "plt.show();"
      ]
    },
    {
      "cell_type": "code",
      "execution_count": null,
      "metadata": {
        "id": "s4UW3ItwBdXY",
        "outputId": "51aaf4a9-4612-45f7-bea9-698ba8d7be3c"
      },
      "outputs": [
        {
          "data": {
            "image/png": "[encoded data removed]",
            "text/plain": [
              "<Figure size 432x288 with 1 Axes>"
            ]
          },
          "metadata": {
            "needs_background": "light"
          },
          "output_type": "display_data"
        }
      ],
      "source": [
        "plt.title('Accuracy')\n",
        "plt.plot(history.history['accuracy'], label='train')\n",
        "plt.plot(history.history['val_accuracy'], label='test')\n",
        "plt.legend()\n",
        "plt.show();"
      ]
    },
    {
      "cell_type": "markdown",
      "metadata": {
        "id": "5xT6rjuLBdXY"
      },
      "source": [
        "# test padding"
      ]
    },
    {
      "cell_type": "code",
      "execution_count": null,
      "metadata": {
        "id": "MM6L7bt8BdXZ"
      },
      "outputs": [],
      "source": [
        "tokenizer = Tokenizer()\n",
        "tokenizer.fit_on_texts(test)\n",
        "X_encoded = tokenizer.texts_to_sequences(test)\n",
        "#print('정수 인코딩 결과 :',X_encoded.shape)"
      ]
    },
    {
      "cell_type": "code",
      "execution_count": null,
      "metadata": {
        "id": "ZBWWxnnQBdXZ"
      },
      "outputs": [],
      "source": [
        "X_test = pad_sequences(X_encoded, maxlen=max_len, padding='post')"
      ]
    },
    {
      "cell_type": "code",
      "execution_count": null,
      "metadata": {
        "id": "AuZ7eWw4xhra"
      },
      "outputs": [],
      "source": [
        "pred_list =[]\n",
        "for i,(tri, vai) in enumerate(cv.split(X_train,y_train) ):\n",
        "    pred = models[i].predict(X_test)\n",
        "    pred_list.append(pred)"
      ]
    },
    {
      "cell_type": "code",
      "execution_count": null,
      "metadata": {
        "id": "QRLaw3NR96eX",
        "scrolled": true
      },
      "outputs": [],
      "source": [
        "y_pred = np.mean(pred_list,axis=0)\n",
        "predicted = y_pred.argmax(axis=-1)"
      ]
    },
    {
      "cell_type": "code",
      "execution_count": null,
      "metadata": {
        "id": "karvKIepBdXZ",
        "scrolled": true
      },
      "outputs": [],
      "source": [
        "digit_1_index = [1.0, 5.0, 10.0, 35.0, 36.0, 41.0, 45.0, 49.0, 55.0, 58.0, 64.0, 68.0, 70.0, 74.0, 84.0, 85.0, 86.0, 90.0, 94.0, 97.0, 99.0]\n",
        "digit_1_value = ['A', 'B', 'C', 'D', 'E', 'F', 'G', 'H', 'I', 'J', 'K', 'L', 'M','N', 'O', 'P', 'Q', 'R', 'S', 'T', 'U']\n",
        "\n",
        "dsa = [ i for i in range(100)]\n",
        "def search_digit_1(i):\n",
        "    ans = 0\n",
        "    if i <digit_1_index[1]:\n",
        "        ans = digit_1_value[0]\n",
        "    elif i <digit_1_index[2]:\n",
        "        ans=digit_1_value[1]\n",
        "    elif i <digit_1_index[3]:\n",
        "        ans=digit_1_value[2]\n",
        "\n",
        "    elif i <digit_1_index[4]:\n",
        "        ans=digit_1_value[3]\n",
        "    elif i <digit_1_index[5]:\n",
        "        ans=digit_1_value[4]\n",
        "\n",
        "    elif i <digit_1_index[6]:\n",
        "        ans=digit_1_value[5]\n",
        "    elif i <digit_1_index[7]:\n",
        "        ans=digit_1_value[6]\n",
        "\n",
        "    elif i <digit_1_index[8]:\n",
        "        ans=digit_1_value[7]\n",
        "    elif i <digit_1_index[9]:\n",
        "        ans=digit_1_value[8]\n",
        "    elif i <digit_1_index[10]:\n",
        "        ans=digit_1_value[9]\n",
        "    elif i <digit_1_index[11]:\n",
        "        ans=digit_1_value[10]\n",
        "    elif i <digit_1_index[12]:\n",
        "        ans=digit_1_value[11]\n",
        "\n",
        "    elif i <digit_1_index[13]:\n",
        "        ans=digit_1_value[12]\n",
        "    elif i <digit_1_index[14]:\n",
        "        ans=digit_1_value[13]\n",
        "\n",
        "    elif i <digit_1_index[15]:\n",
        "        ans=digit_1_value[14]\n",
        "    elif i <digit_1_index[16]:\n",
        "        ans=digit_1_value[15]\n",
        "\n",
        "    elif i <digit_1_index[17]:\n",
        "        ans=digit_1_value[16]\n",
        "    elif i <digit_1_index[18]:S\n",
        "        ans=digit_1_value[17]\n",
        "\n",
        "    elif i <digit_1_index[19]:\n",
        "        ans=digit_1_value[18]\n",
        "    elif i <digit_1_index[20]:\n",
        "        ans=digit_1_value[19]\n",
        "\n",
        "    else:\n",
        "        ans=digit_1_value[20]\n",
        "    return ans"
      ]
    },
    {
      "cell_type": "code",
      "execution_count": null,
      "metadata": {
        "id": "s4Ble0YSBdXa",
        "outputId": "face58cf-3a9d-4f77-e437-2ce4df8fce3b"
      },
      "outputs": [
        {
          "name": "stderr",
          "output_type": "stream",
          "text": [
            "<ipython-input-63-ab4b631f4e13>:6: SettingWithCopyWarning: \n",
            "A value is trying to be set on a copy of a slice from a DataFrame\n",
            "\n",
            "See the caveats in the documentation: https://pandas.pydata.org/pandas-docs/stable/user_guide/indexing.html#returning-a-view-versus-a-copy\n",
            "  submission['digit_3'][i] = int(labels[predicted[i]])\n",
            "<ipython-input-63-ab4b631f4e13>:7: SettingWithCopyWarning: \n",
            "A value is trying to be set on a copy of a slice from a DataFrame\n",
            "\n",
            "See the caveats in the documentation: https://pandas.pydata.org/pandas-docs/stable/user_guide/indexing.html#returning-a-view-versus-a-copy\n",
            "  submission['digit_2'][i] = int(labels[predicted[i]])//10\n",
            "<ipython-input-63-ab4b631f4e13>:8: SettingWithCopyWarning: \n",
            "A value is trying to be set on a copy of a slice from a DataFrame\n",
            "\n",
            "See the caveats in the documentation: https://pandas.pydata.org/pandas-docs/stable/user_guide/indexing.html#returning-a-view-versus-a-copy\n",
            "  submission['digit_1'][i] = search_digit_1(int(labels[predicted[i]])//10)\n",
            "C:\\Users\\SEO\\anaconda3\\lib\\site-packages\\pandas\\core\\indexing.py:670: SettingWithCopyWarning: \n",
            "A value is trying to be set on a copy of a slice from a DataFrame\n",
            "\n",
            "See the caveats in the documentation: https://pandas.pydata.org/pandas-docs/stable/user_guide/indexing.html#returning-a-view-versus-a-copy\n",
            "  iloc._setitem_with_indexer(indexer, value)\n",
            "<ipython-input-63-ab4b631f4e13>:3: SettingWithCopyWarning: \n",
            "A value is trying to be set on a copy of a slice from a DataFrame\n",
            "\n",
            "See the caveats in the documentation: https://pandas.pydata.org/pandas-docs/stable/user_guide/indexing.html#returning-a-view-versus-a-copy\n",
            "  submission['digit_3'][i] = int(labels[predicted[i]])\n",
            "<ipython-input-63-ab4b631f4e13>:4: SettingWithCopyWarning: \n",
            "A value is trying to be set on a copy of a slice from a DataFrame\n",
            "\n",
            "See the caveats in the documentation: https://pandas.pydata.org/pandas-docs/stable/user_guide/indexing.html#returning-a-view-versus-a-copy\n",
            "  submission['digit_2'][i] = int(labels[predicted[i]][0])\n",
            "<ipython-input-63-ab4b631f4e13>:5: SettingWithCopyWarning: \n",
            "A value is trying to be set on a copy of a slice from a DataFrame\n",
            "\n",
            "See the caveats in the documentation: https://pandas.pydata.org/pandas-docs/stable/user_guide/indexing.html#returning-a-view-versus-a-copy\n",
            "  submission['digit_1'][i] = search_digit_1(int(labels[predicted[i]])//10)\n"
          ]
        },
        {
          "data": {
            "text/html": [
              "<div>\n",
              "<style scoped>\n",
              "    .dataframe tbody tr th:only-of-type {\n",
              "        vertical-align: middle;\n",
              "    }\n",
              "\n",
              "    .dataframe tbody tr th {\n",
              "        vertical-align: top;\n",
              "    }\n",
              "\n",
              "    .dataframe thead th {\n",
              "        text-align: right;\n",
              "    }\n",
              "</style>\n",
              "<table border=\"1\" class=\"dataframe\">\n",
              "  <thead>\n",
              "    <tr style=\"text-align: right;\">\n",
              "      <th></th>\n",
              "      <th>AI_id</th>\n",
              "      <th>digit_1</th>\n",
              "      <th>digit_2</th>\n",
              "      <th>digit_3</th>\n",
              "      <th>text_obj</th>\n",
              "      <th>text_mthd</th>\n",
              "      <th>text_deal</th>\n",
              "    </tr>\n",
              "  </thead>\n",
              "  <tbody>\n",
              "    <tr>\n",
              "      <th>0</th>\n",
              "      <td>id_000001</td>\n",
              "      <td>S</td>\n",
              "      <td>96.0</td>\n",
              "      <td>961.0</td>\n",
              "      <td>치킨전문점에서</td>\n",
              "      <td>고객의주문에의해</td>\n",
              "      <td>치킨판매</td>\n",
              "    </tr>\n",
              "    <tr>\n",
              "      <th>1</th>\n",
              "      <td>id_000002</td>\n",
              "      <td>L</td>\n",
              "      <td>68.0</td>\n",
              "      <td>682.0</td>\n",
              "      <td>산업공구</td>\n",
              "      <td>다른 소매업자에게</td>\n",
              "      <td>철물 수공구</td>\n",
              "    </tr>\n",
              "    <tr>\n",
              "      <th>2</th>\n",
              "      <td>id_000003</td>\n",
              "      <td>S</td>\n",
              "      <td>96.0</td>\n",
              "      <td>969.0</td>\n",
              "      <td>절에서</td>\n",
              "      <td>신도을 대상으로</td>\n",
              "      <td>불교단체운영</td>\n",
              "    </tr>\n",
              "    <tr>\n",
              "      <th>3</th>\n",
              "      <td>id_000004</td>\n",
              "      <td>G</td>\n",
              "      <td>46.0</td>\n",
              "      <td>463.0</td>\n",
              "      <td>영업장에서</td>\n",
              "      <td>고객요구로</td>\n",
              "      <td>자동차튜닝</td>\n",
              "    </tr>\n",
              "    <tr>\n",
              "      <th>4</th>\n",
              "      <td>id_000005</td>\n",
              "      <td>I</td>\n",
              "      <td>56.0</td>\n",
              "      <td>561.0</td>\n",
              "      <td>실내포장마차에서</td>\n",
              "      <td>접객시설을 갖추고</td>\n",
              "      <td>소주,맥주제공</td>\n",
              "    </tr>\n",
              "    <tr>\n",
              "      <th>...</th>\n",
              "      <td>...</td>\n",
              "      <td>...</td>\n",
              "      <td>...</td>\n",
              "      <td>...</td>\n",
              "      <td>...</td>\n",
              "      <td>...</td>\n",
              "      <td>...</td>\n",
              "    </tr>\n",
              "    <tr>\n",
              "      <th>99995</th>\n",
              "      <td>id_099996</td>\n",
              "      <td>C</td>\n",
              "      <td>28.0</td>\n",
              "      <td>284.0</td>\n",
              "      <td>사업장에서</td>\n",
              "      <td>일반인대상으로</td>\n",
              "      <td>버섯농장</td>\n",
              "    </tr>\n",
              "    <tr>\n",
              "      <th>99996</th>\n",
              "      <td>id_099997</td>\n",
              "      <td>C</td>\n",
              "      <td>25.0</td>\n",
              "      <td>259.0</td>\n",
              "      <td>한의원에서</td>\n",
              "      <td>외래환자위주고</td>\n",
              "      <td>치료</td>\n",
              "    </tr>\n",
              "    <tr>\n",
              "      <th>99997</th>\n",
              "      <td>id_099998</td>\n",
              "      <td>H</td>\n",
              "      <td>49.0</td>\n",
              "      <td>494.0</td>\n",
              "      <td>일반점포에서</td>\n",
              "      <td>소비자에게</td>\n",
              "      <td>그림판매</td>\n",
              "    </tr>\n",
              "    <tr>\n",
              "      <th>99998</th>\n",
              "      <td>id_099999</td>\n",
              "      <td>I</td>\n",
              "      <td>56.0</td>\n",
              "      <td>561.0</td>\n",
              "      <td>사업장에서</td>\n",
              "      <td>일반인.학생대상으로</td>\n",
              "      <td>학습공간제공</td>\n",
              "    </tr>\n",
              "    <tr>\n",
              "      <th>99999</th>\n",
              "      <td>id_100000</td>\n",
              "      <td>S</td>\n",
              "      <td>96.0</td>\n",
              "      <td>961.0</td>\n",
              "      <td>사업장에서</td>\n",
              "      <td>대리현대아파트를</td>\n",
              "      <td>관리</td>\n",
              "    </tr>\n",
              "  </tbody>\n",
              "</table>\n",
              "<p>100000 rows × 7 columns</p>\n",
              "</div>"
            ],
            "text/plain": [
              "           AI_id digit_1  digit_2  digit_3  text_obj   text_mthd text_deal\n",
              "0      id_000001       S     96.0    961.0   치킨전문점에서    고객의주문에의해      치킨판매\n",
              "1      id_000002       L     68.0    682.0      산업공구   다른 소매업자에게    철물 수공구\n",
              "2      id_000003       S     96.0    969.0       절에서    신도을 대상으로    불교단체운영\n",
              "3      id_000004       G     46.0    463.0     영업장에서       고객요구로     자동차튜닝\n",
              "4      id_000005       I     56.0    561.0  실내포장마차에서   접객시설을 갖추고   소주,맥주제공\n",
              "...          ...     ...      ...      ...       ...         ...       ...\n",
              "99995  id_099996       C     28.0    284.0     사업장에서     일반인대상으로      버섯농장\n",
              "99996  id_099997       C     25.0    259.0     한의원에서     외래환자위주고        치료\n",
              "99997  id_099998       H     49.0    494.0    일반점포에서       소비자에게      그림판매\n",
              "99998  id_099999       I     56.0    561.0     사업장에서  일반인.학생대상으로    학습공간제공\n",
              "99999  id_100000       S     96.0    961.0     사업장에서    대리현대아파트를        관리\n",
              "\n",
              "[100000 rows x 7 columns]"
            ]
          },
          "execution_count": 63,
          "metadata": {},
          "output_type": "execute_result"
        }
      ],
      "source": [
        "for i in range(len(predicted)):\n",
        "    if len(labels[predicted[i]]) == 2:\n",
        "        submission['digit_3'][i] = int(labels[predicted[i]])\n",
        "        submission['digit_2'][i] = int(labels[predicted[i]][0])\n",
        "        submission['digit_1'][i] = search_digit_1(int(labels[predicted[i]])//10)\n",
        "    submission['digit_3'][i] = int(labels[predicted[i]])\n",
        "    submission['digit_2'][i] = int(labels[predicted[i]])//10\n",
        "    submission['digit_1'][i] = search_digit_1(int(labels[predicted[i]])//10)\n",
        "submission"
      ]
    },
    {
      "cell_type": "code",
      "execution_count": null,
      "metadata": {
        "id": "9Y-iGncEBdXb"
      },
      "outputs": [],
      "source": [
        "submission[['digit_2','digit_3']] = submission[['digit_2','digit_3']].astype(int)"
      ]
    },
    {
      "cell_type": "code",
      "execution_count": null,
      "metadata": {
        "id": "-BIiuV3i-If4"
      },
      "outputs": [],
      "source": [
        "submission.to_csv('/content/drive/MyDrive/통계청_AI경진대회/final/data/sub1_optuna.csv', index=False)"
      ]
    },
    {
      "cell_type": "code",
      "execution_count": null,
      "metadata": {
        "id": "y_hQ9oNPBdXb",
        "outputId": "c5b5833c-b4b5-45d0-f757-6ece41e77c65"
      },
      "outputs": [
        {
          "name": "stdout",
          "output_type": "stream",
          "text": [
            "You must install pydot (`pip install pydot`) and install graphviz (see instructions at https://graphviz.gitlab.io/download/) for plot_model/model_to_dot to work.\n"
          ]
        }
      ],
      "source": [
        "from tensorflow.keras.utils import plot_model\n",
        "plot_model(model)"
      ]
    }
  ],
  "metadata": {
    "accelerator": "GPU",
    "colab": {
      "collapsed_sections": [],
      "name": "[Final] modeling.ipynb",
      "provenance": [],
      "include_colab_link": true
    },
    "kernelspec": {
      "display_name": "Python 3",
      "language": "python",
      "name": "python3"
    },
    "language_info": {
      "codemirror_mode": {
        "name": "ipython",
        "version": 3
      },
      "file_extension": ".py",
      "mimetype": "text/x-python",
      "name": "python",
      "nbconvert_exporter": "python",
      "pygments_lexer": "ipython3",
      "version": "3.8.5"
    }
  },
  "nbformat": 4,
  "nbformat_minor": 0
}
