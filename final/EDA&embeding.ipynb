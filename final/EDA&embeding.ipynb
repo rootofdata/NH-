{
  "nbformat": 4,
  "nbformat_minor": 0,
  "metadata": {
    "colab": {
      "name": "[Final]EDA 및 embeding.ipynb",
      "provenance": [],
      "collapsed_sections": [],
      "include_colab_link": true
    },
    "kernelspec": {
      "name": "python3",
      "display_name": "Python 3"
    },
    "language_info": {
      "name": "python"
    }
  },
  "cells": [
    {
      "cell_type": "markdown",
      "metadata": {
        "id": "view-in-github",
        "colab_type": "text"
      },
      "source": [
        "<a href=\"https://colab.research.google.com/github/rootofdata/kostat_AI_contest/blob/main/%5BFinal%5DEDA_%EB%B0%8F_embeding.ipynb\" target=\"_parent\"><img src=\"https://colab.research.google.com/assets/colab-badge.svg\" alt=\"Open In Colab\"/></a>"
      ]
    },
    {
      "cell_type": "code",
      "execution_count": null,
      "metadata": {
        "id": "dO5_akCO4Lmm"
      },
      "outputs": [],
      "source": [
        "import numpy as np\n",
        "import pandas as pd\n",
        "import seaborn as sns\n",
        "import matplotlib as mpl\n",
        "import matplotlib.pylab as plt\n",
        "import logging"
      ]
    },
    {
      "cell_type": "code",
      "source": [
        "from google.colab import drive\n",
        "drive.mount('/content/drive')"
      ],
      "metadata": {
        "colab": {
          "base_uri": "https://localhost:8080/"
        },
        "id": "rX40CXUE4RI_",
        "outputId": "c51a2a67-e31f-4f85-e105-556425fc40b6"
      },
      "execution_count": null,
      "outputs": [
        {
          "output_type": "stream",
          "name": "stdout",
          "text": [
            "Mounted at /content/drive\n"
          ]
        }
      ]
    },
    {
      "cell_type": "markdown",
      "source": [
        "# Load Data"
      ],
      "metadata": {
        "id": "l-PQH9GQ4XIP"
      }
    },
    {
      "cell_type": "code",
      "source": [
        "data= pd.read_csv('/content/drive/MyDrive/통계청_AI경진대회/실습용 자료/1. 실습용자료.txt', sep ='|',encoding='CP949', header=0)\n",
        "submission= pd.read_csv('/content/drive/MyDrive/통계청_AI경진대회/모델 개발용 자료/2. 모델개발용자료.txt', sep ='|',encoding='CP949', header=0)\n",
        "ks = pd.read_csv('/content/drive/MyDrive/통계청_AI경진대회/한국표준산업분류(10차)_국문_test.csv',encoding='CP949',header=2)"
      ],
      "metadata": {
        "id": "YBjD1UyG4R7_"
      },
      "execution_count": null,
      "outputs": []
    },
    {
      "cell_type": "code",
      "source": [
        "data.head()"
      ],
      "metadata": {
        "id": "L_Jlo_0cEtyt",
        "outputId": "6abeec35-9b75-4cb5-8319-fecae0dee066",
        "colab": {
          "base_uri": "https://localhost:8080/",
          "height": 206
        }
      },
      "execution_count": null,
      "outputs": [
        {
          "output_type": "execute_result",
          "data": {
            "text/plain": [
              "        AI_id digit_1  digit_2  digit_3    text_obj    text_mthd text_deal\n",
              "0  id_0000001       S       95      952       카센터에서      자동차부분정비   타이어오일교환\n",
              "1  id_0000002       G       47      472       상점내에서    일반인을 대상으로   채소.과일판매\n",
              "2  id_0000003       G       46      467  절단하여사업체에도매    공업용고무를가지고    합성고무도매\n",
              "3  id_0000004       G       47      475       영업점에서      일반소비자에게    열쇠잠금장치\n",
              "4  id_0000005       Q       87      872        어린이집  보호자의 위탁을 받아   취학전아동보육"
            ],
            "text/html": [
              "\n",
              "  <div id=\"df-5d06d4bd-db17-4883-b18d-93d5e2ad466c\">\n",
              "    <div class=\"colab-df-container\">\n",
              "      <div>\n",
              "<style scoped>\n",
              "    .dataframe tbody tr th:only-of-type {\n",
              "        vertical-align: middle;\n",
              "    }\n",
              "\n",
              "    .dataframe tbody tr th {\n",
              "        vertical-align: top;\n",
              "    }\n",
              "\n",
              "    .dataframe thead th {\n",
              "        text-align: right;\n",
              "    }\n",
              "</style>\n",
              "<table border=\"1\" class=\"dataframe\">\n",
              "  <thead>\n",
              "    <tr style=\"text-align: right;\">\n",
              "      <th></th>\n",
              "      <th>AI_id</th>\n",
              "      <th>digit_1</th>\n",
              "      <th>digit_2</th>\n",
              "      <th>digit_3</th>\n",
              "      <th>text_obj</th>\n",
              "      <th>text_mthd</th>\n",
              "      <th>text_deal</th>\n",
              "    </tr>\n",
              "  </thead>\n",
              "  <tbody>\n",
              "    <tr>\n",
              "      <th>0</th>\n",
              "      <td>id_0000001</td>\n",
              "      <td>S</td>\n",
              "      <td>95</td>\n",
              "      <td>952</td>\n",
              "      <td>카센터에서</td>\n",
              "      <td>자동차부분정비</td>\n",
              "      <td>타이어오일교환</td>\n",
              "    </tr>\n",
              "    <tr>\n",
              "      <th>1</th>\n",
              "      <td>id_0000002</td>\n",
              "      <td>G</td>\n",
              "      <td>47</td>\n",
              "      <td>472</td>\n",
              "      <td>상점내에서</td>\n",
              "      <td>일반인을 대상으로</td>\n",
              "      <td>채소.과일판매</td>\n",
              "    </tr>\n",
              "    <tr>\n",
              "      <th>2</th>\n",
              "      <td>id_0000003</td>\n",
              "      <td>G</td>\n",
              "      <td>46</td>\n",
              "      <td>467</td>\n",
              "      <td>절단하여사업체에도매</td>\n",
              "      <td>공업용고무를가지고</td>\n",
              "      <td>합성고무도매</td>\n",
              "    </tr>\n",
              "    <tr>\n",
              "      <th>3</th>\n",
              "      <td>id_0000004</td>\n",
              "      <td>G</td>\n",
              "      <td>47</td>\n",
              "      <td>475</td>\n",
              "      <td>영업점에서</td>\n",
              "      <td>일반소비자에게</td>\n",
              "      <td>열쇠잠금장치</td>\n",
              "    </tr>\n",
              "    <tr>\n",
              "      <th>4</th>\n",
              "      <td>id_0000005</td>\n",
              "      <td>Q</td>\n",
              "      <td>87</td>\n",
              "      <td>872</td>\n",
              "      <td>어린이집</td>\n",
              "      <td>보호자의 위탁을 받아</td>\n",
              "      <td>취학전아동보육</td>\n",
              "    </tr>\n",
              "  </tbody>\n",
              "</table>\n",
              "</div>\n",
              "      <button class=\"colab-df-convert\" onclick=\"convertToInteractive('df-5d06d4bd-db17-4883-b18d-93d5e2ad466c')\"\n",
              "              title=\"Convert this dataframe to an interactive table.\"\n",
              "              style=\"display:none;\">\n",
              "        \n",
              "  <svg xmlns=\"http://www.w3.org/2000/svg\" height=\"24px\"viewBox=\"0 0 24 24\"\n",
              "       width=\"24px\">\n",
              "    <path d=\"M0 0h24v24H0V0z\" fill=\"none\"/>\n",
              "    <path d=\"M18.56 5.44l.94 2.06.94-2.06 2.06-.94-2.06-.94-.94-2.06-.94 2.06-2.06.94zm-11 1L8.5 8.5l.94-2.06 2.06-.94-2.06-.94L8.5 2.5l-.94 2.06-2.06.94zm10 10l.94 2.06.94-2.06 2.06-.94-2.06-.94-.94-2.06-.94 2.06-2.06.94z\"/><path d=\"M17.41 7.96l-1.37-1.37c-.4-.4-.92-.59-1.43-.59-.52 0-1.04.2-1.43.59L10.3 9.45l-7.72 7.72c-.78.78-.78 2.05 0 2.83L4 21.41c.39.39.9.59 1.41.59.51 0 1.02-.2 1.41-.59l7.78-7.78 2.81-2.81c.8-.78.8-2.07 0-2.86zM5.41 20L4 18.59l7.72-7.72 1.47 1.35L5.41 20z\"/>\n",
              "  </svg>\n",
              "      </button>\n",
              "      \n",
              "  <style>\n",
              "    .colab-df-container {\n",
              "      display:flex;\n",
              "      flex-wrap:wrap;\n",
              "      gap: 12px;\n",
              "    }\n",
              "\n",
              "    .colab-df-convert {\n",
              "      background-color: #E8F0FE;\n",
              "      border: none;\n",
              "      border-radius: 50%;\n",
              "      cursor: pointer;\n",
              "      display: none;\n",
              "      fill: #1967D2;\n",
              "      height: 32px;\n",
              "      padding: 0 0 0 0;\n",
              "      width: 32px;\n",
              "    }\n",
              "\n",
              "    .colab-df-convert:hover {\n",
              "      background-color: #E2EBFA;\n",
              "      box-shadow: 0px 1px 2px rgba(60, 64, 67, 0.3), 0px 1px 3px 1px rgba(60, 64, 67, 0.15);\n",
              "      fill: #174EA6;\n",
              "    }\n",
              "\n",
              "    [theme=dark] .colab-df-convert {\n",
              "      background-color: #3B4455;\n",
              "      fill: #D2E3FC;\n",
              "    }\n",
              "\n",
              "    [theme=dark] .colab-df-convert:hover {\n",
              "      background-color: #434B5C;\n",
              "      box-shadow: 0px 1px 3px 1px rgba(0, 0, 0, 0.15);\n",
              "      filter: drop-shadow(0px 1px 2px rgba(0, 0, 0, 0.3));\n",
              "      fill: #FFFFFF;\n",
              "    }\n",
              "  </style>\n",
              "\n",
              "      <script>\n",
              "        const buttonEl =\n",
              "          document.querySelector('#df-5d06d4bd-db17-4883-b18d-93d5e2ad466c button.colab-df-convert');\n",
              "        buttonEl.style.display =\n",
              "          google.colab.kernel.accessAllowed ? 'block' : 'none';\n",
              "\n",
              "        async function convertToInteractive(key) {\n",
              "          const element = document.querySelector('#df-5d06d4bd-db17-4883-b18d-93d5e2ad466c');\n",
              "          const dataTable =\n",
              "            await google.colab.kernel.invokeFunction('convertToInteractive',\n",
              "                                                     [key], {});\n",
              "          if (!dataTable) return;\n",
              "\n",
              "          const docLinkHtml = 'Like what you see? Visit the ' +\n",
              "            '<a target=\"_blank\" href=https://colab.research.google.com/notebooks/data_table.ipynb>data table notebook</a>'\n",
              "            + ' to learn more about interactive tables.';\n",
              "          element.innerHTML = '';\n",
              "          dataTable['output_type'] = 'display_data';\n",
              "          await google.colab.output.renderOutput(dataTable, element);\n",
              "          const docLink = document.createElement('div');\n",
              "          docLink.innerHTML = docLinkHtml;\n",
              "          element.appendChild(docLink);\n",
              "        }\n",
              "      </script>\n",
              "    </div>\n",
              "  </div>\n",
              "  "
            ]
          },
          "metadata": {},
          "execution_count": 4
        }
      ]
    },
    {
      "cell_type": "markdown",
      "source": [
        "# Make dataframe for 한국표준산업분류(10차)_국문"
      ],
      "metadata": {
        "id": "qMqLEyqO47kj"
      }
    },
    {
      "cell_type": "code",
      "source": [
        "data.head()"
      ],
      "metadata": {
        "id": "lSGPrf0cEmOm"
      },
      "execution_count": null,
      "outputs": []
    },
    {
      "cell_type": "code",
      "source": [
        "ks['코드.3']=ks['코드.3']//10\n",
        "input = ks[['코드.3','항목명.3']].dropna()\n",
        "input = input.reset_index(drop=True)\n",
        "input['코드.3']=input['코드.3'].astype(int)\n",
        "input['항목명.3']=input['항목명.3'].str.rstrip('업')\n",
        "input.rename(columns={'코드.3':'digit_3','항목명.3':'NLP'},inplace=True)\n",
        "a1=[]\n",
        "for i in range(len(input)):\n",
        "  a1.append('id_'+str(i+1000001))\n",
        "input.insert(0,'AI_id',a1)"
      ],
      "metadata": {
        "id": "31U010y64dm8"
      },
      "execution_count": null,
      "outputs": []
    },
    {
      "cell_type": "code",
      "source": [
        "col = ['text_obj','text_mthd','text_deal']\n",
        "NLP = data[col].apply(lambda row: ' '.join(row.values.astype(str)), axis=1)\n",
        "df = data[['AI_id','digit_3']].copy()\n",
        "df['NLP'] = NLP\n",
        "df_concat=pd.concat([df,input])\n",
        "df_concat['NLP']=df_concat['NLP'].astype(str)\n",
        "df_concat.reset_index(inplace=True)\n",
        "NLP = df_concat['NLP']"
      ],
      "metadata": {
        "id": "CHVc8qs8Rsnn"
      },
      "execution_count": null,
      "outputs": []
    },
    {
      "cell_type": "code",
      "source": [
        "# 텍스트 정제 함수 : 한글 이외의 문자는 전부 제거합니다.\n",
        "import re\n",
        "def text_cleaning(text):\n",
        "    hangul = re.compile('[^ ㄱ-ㅣ가-힣]+') # 한글의 정규표현식을 나타냅니다.\n",
        "    result = hangul.sub('', text)\n",
        "    return result\n",
        "\n",
        "for i in NLP:\n",
        "  text_cleaning(i)\n",
        "\n",
        "from nltk import Text\n",
        "kolaw1 = Text(NLP, name=\"kolaw\")"
      ],
      "metadata": {
        "id": "-98XOh8IR9wC"
      },
      "execution_count": null,
      "outputs": []
    },
    {
      "cell_type": "code",
      "source": [
        "!pip install konlpy"
      ],
      "metadata": {
        "colab": {
          "base_uri": "https://localhost:8080/"
        },
        "id": "6e3brzfjR-_R",
        "outputId": "61616ed5-fcd9-4802-f03a-0548fb60a2f5"
      },
      "execution_count": null,
      "outputs": [
        {
          "output_type": "stream",
          "name": "stdout",
          "text": [
            "Collecting konlpy\n",
            "  Downloading konlpy-0.6.0-py2.py3-none-any.whl (19.4 MB)\n",
            "\u001b[K     |████████████████████████████████| 19.4 MB 1.1 MB/s \n",
            "\u001b[?25hRequirement already satisfied: lxml>=4.1.0 in /usr/local/lib/python3.7/dist-packages (from konlpy) (4.2.6)\n",
            "Collecting JPype1>=0.7.0\n",
            "  Downloading JPype1-1.3.0-cp37-cp37m-manylinux_2_5_x86_64.manylinux1_x86_64.whl (448 kB)\n",
            "\u001b[K     |████████████████████████████████| 448 kB 60.4 MB/s \n",
            "\u001b[?25hRequirement already satisfied: numpy>=1.6 in /usr/local/lib/python3.7/dist-packages (from konlpy) (1.21.5)\n",
            "Requirement already satisfied: typing-extensions in /usr/local/lib/python3.7/dist-packages (from JPype1>=0.7.0->konlpy) (3.10.0.2)\n",
            "Installing collected packages: JPype1, konlpy\n",
            "Successfully installed JPype1-1.3.0 konlpy-0.6.0\n"
          ]
        }
      ]
    },
    {
      "cell_type": "code",
      "source": [
        "type(NLP)"
      ],
      "metadata": {
        "id": "ESq-6-i8dn3L",
        "outputId": "1b04fb39-6d2b-4929-dc0c-bf70a3e16aba",
        "colab": {
          "base_uri": "https://localhost:8080/"
        }
      },
      "execution_count": null,
      "outputs": [
        {
          "output_type": "execute_result",
          "data": {
            "text/plain": [
              "pandas.core.series.Series"
            ]
          },
          "metadata": {},
          "execution_count": 10
        }
      ]
    },
    {
      "cell_type": "code",
      "source": [
        "from konlpy.tag import *\n",
        "okt = Okt()\n",
        "tokenized_okt = []\n",
        "for i in range(len(NLP)):\n",
        "  tokenized_okt.append(okt.nouns(NLP[i]))"
      ],
      "metadata": {
        "id": "UBlzU4ASSAcK"
      },
      "execution_count": null,
      "outputs": []
    },
    {
      "cell_type": "code",
      "source": [
        "okt_copy= tokenized_okt.copy()"
      ],
      "metadata": {
        "id": "42CK1oxETVfF"
      },
      "execution_count": null,
      "outputs": []
    },
    {
      "cell_type": "markdown",
      "source": [
        "# Split 8글자 ,7글자 ,6글자 ,5글자 ,4글자"
      ],
      "metadata": {
        "id": "YfWg9B9WUktX"
      }
    },
    {
      "cell_type": "code",
      "source": [
        "count={}\n",
        "for j in range(len(okt_copy)):\n",
        "  for i in okt_copy[j]:\n",
        "      try: count[i] += 1\n",
        "      except: count[i]=1\n",
        "bigword8 = {key: value for key, value in count.items() if len(key)==8 and value <50}\n",
        "bw8= list(bigword8)\n",
        "bw8_copy=bw8.copy()\n",
        "def split8(data_name,i):\n",
        "  data_name =bw8.copy()\n",
        "  for k in range(len(bw8)):\n",
        "    d=[]\n",
        "    d.append(data_name[k][0:i])\n",
        "    d.append(data_name[k][i:8])\n",
        "    data_name[k]=d\n",
        "  return data_name\n",
        "b8_2=[]\n",
        "b8_4=[]\n",
        "b8_6=[]\n",
        "b8_2=split8(b8_2,2)\n",
        "b8_4=split8(b8_4,4)\n",
        "b8_6=split8(b8_6,6)\n",
        "for i in range(len(bw8_copy)):\n",
        "  for j in range(len(okt_copy)):\n",
        "    for item in okt_copy[j]:\n",
        "      if item ==bw8_copy[i]:\n",
        "         okt_copy[j].remove(bw8_copy[i])\n",
        "         okt_copy[j].append(b8_2[i][0])\n",
        "         okt_copy[j].append(b8_2[i][1])\n",
        "         okt_copy[j].append(b8_4[i][0])\n",
        "         okt_copy[j].append(b8_4[i][1])    \n",
        "         okt_copy[j].append(b8_6[i][0])\n",
        "         okt_copy[j].append(b8_6[i][1]) "
      ],
      "metadata": {
        "id": "cgMW6_SYUOvC"
      },
      "execution_count": null,
      "outputs": []
    },
    {
      "cell_type": "code",
      "source": [
        "count={}\n",
        "for j in range(len(okt_copy)):\n",
        "  for i in okt_copy[j]:\n",
        "      try: count[i] += 1\n",
        "      except: count[i]=1\n",
        "bigword7 = {key: value for key, value in count.items() if len(key)==7 and value <50}\n",
        "bw7= list(bigword7)\n",
        "bw7_copy=bw7.copy()\n",
        "def split7(data_name,i):\n",
        "  data_name =bw7.copy()\n",
        "  for k in range(len(bw7)):\n",
        "    d=[]\n",
        "    d.append(data_name[k][0:i])\n",
        "    d.append(data_name[k][i:7])\n",
        "    data_name[k]=d\n",
        "  return data_name\n",
        "b7_2=[]\n",
        "b7_4=[]\n",
        "b7_2=split7(b7_2,2)\n",
        "b7_4=split7(b7_4,4)\n",
        "for i in range(len(bw7_copy)):\n",
        "  for j in range(len(okt_copy)):\n",
        "    for item in okt_copy[j]:\n",
        "      if item ==bw7_copy[i]:\n",
        "         okt_copy[j].remove(bw7_copy[i])\n",
        "         okt_copy[j].append(b7_2[i][0])\n",
        "         okt_copy[j].append(b7_2[i][1])\n",
        "         okt_copy[j].append(b7_4[i][0])\n",
        "         okt_copy[j].append(b7_4[i][1])     "
      ],
      "metadata": {
        "id": "iPMflsQBURj3"
      },
      "execution_count": null,
      "outputs": []
    },
    {
      "cell_type": "code",
      "source": [
        "count={}\n",
        "for j in range(len(okt_copy)):\n",
        "  for i in okt_copy[j]:\n",
        "      try: count[i] += 1\n",
        "      except: count[i]=1\n",
        "bigword6 = {key: value for key, value in count.items() if len(key)==6 and value <50}\n",
        "bw6= list(bigword6)\n",
        "bw6_copy=bw6.copy()\n",
        "def split6(data_name,i):\n",
        "  data_name =bw6.copy()\n",
        "  for k in range(len(bw6)):\n",
        "    d=[]\n",
        "    d.append(data_name[k][0:i])\n",
        "    d.append(data_name[k][i:6])\n",
        "    data_name[k]=d\n",
        "  return data_name\n",
        "b6_2=[]\n",
        "b6_3=[]\n",
        "b6_4=[]\n",
        "b6_2=split6(b6_2,2)\n",
        "b6_3=split6(b6_3,3)\n",
        "b6_4=split6(b6_4,4)\n",
        "for i in range(len(bw6_copy)):\n",
        "  for j in range(len(okt_copy)):\n",
        "    for item in okt_copy[j]:\n",
        "      if item ==bw6_copy[i]:\n",
        "         okt_copy[j].remove(bw6_copy[i])\n",
        "         okt_copy[j].append(b6_2[i][0])\n",
        "         okt_copy[j].append(b6_2[i][1])\n",
        "         okt_copy[j].append(b6_3[i][0])\n",
        "         okt_copy[j].append(b6_3[i][1])\n",
        "         okt_copy[j].append(b6_4[i][0])\n",
        "         okt_copy[j].append(b6_4[i][1])     "
      ],
      "metadata": {
        "id": "qrpyXEmtUVGJ"
      },
      "execution_count": null,
      "outputs": []
    },
    {
      "cell_type": "code",
      "source": [
        "count={}\n",
        "for j in range(len(okt_copy)):\n",
        "  for i in okt_copy[j]:\n",
        "      try: count[i] += 1\n",
        "      except: count[i]=1\n",
        "bigword5 = {key: value for key, value in count.items() if len(key)==5 and value <50}\n",
        "bw5= list(bigword5)\n",
        "bw5_copy=bw5.copy()\n",
        "def split5(data_name,i):\n",
        "  data_name =bw5.copy()\n",
        "  for k in range(len(bw5)):\n",
        "    d=[]\n",
        "    d.append(data_name[k][0:i])\n",
        "    d.append(data_name[k][i:5])\n",
        "    data_name[k]=d\n",
        "  return data_name\n",
        "b5_2=[]\n",
        "b5_3=[]\n",
        "b5_2=split5(b5_2,2)\n",
        "b5_3=split5(b5_3,3)\n",
        "for i in range(len(bw5_copy)):\n",
        "  for j in range(len(okt_copy)):\n",
        "    for item in okt_copy[j]:\n",
        "      if item ==bw5_copy[i]:\n",
        "         okt_copy[j].remove(bw5_copy[i])\n",
        "         okt_copy[j].append(b5_2[i][0])\n",
        "         okt_copy[j].append(b5_2[i][1])\n",
        "         okt_copy[j].append(b5_3[i][0])\n",
        "         okt_copy[j].append(b5_3[i][1])"
      ],
      "metadata": {
        "id": "zOesam52UVDj"
      },
      "execution_count": null,
      "outputs": []
    },
    {
      "cell_type": "code",
      "source": [
        "count={}\n",
        "for j in range(len(okt_copy)):\n",
        "  for i in okt_copy[j]:\n",
        "      try: count[i] += 1\n",
        "      except: count[i]=1\n",
        "bigword4 = {key: value for key, value in count.items() if len(key)==4 and value <50}\n",
        "bw4= list(bigword4)\n",
        "bw4_copy=bw4.copy()\n",
        "def split4(data_name,i):\n",
        "  data_name =bw4.copy()\n",
        "  for k in range(len(bw4)):\n",
        "    d=[]\n",
        "    d.append(data_name[k][0:i])\n",
        "    d.append(data_name[k][i:4])\n",
        "    data_name[k]=d\n",
        "  return data_name\n",
        "b4_1=[]\n",
        "b4_2=[]\n",
        "b4_3=[]\n",
        "b4_1=split4(b4_1,1)\n",
        "b4_2=split4(b4_2,2)\n",
        "b4_3=split4(b4_3,3)\n",
        "for i in range(len(bw4_copy)):\n",
        "  for j in range(len(okt_copy)):\n",
        "    for item in okt_copy[j]:\n",
        "      if item ==bw4_copy[i]:\n",
        "        okt_copy[j].append(b4_1[i][0])\n",
        "        okt_copy[j].append(b4_1[i][1])\n",
        "        okt_copy[j].append(b4_2[i][0])\n",
        "        okt_copy[j].append(b4_2[i][1])\n",
        "        okt_copy[j].append(b4_3[i][0])\n",
        "        okt_copy[j].append(b4_3[i][1])  \n",
        "      else: continue"
      ],
      "metadata": {
        "id": "5inRVN6gUVA2"
      },
      "execution_count": null,
      "outputs": []
    },
    {
      "cell_type": "code",
      "source": [
        "bigword_split_okt=okt_copy.copy()"
      ],
      "metadata": {
        "id": "FjYE4ADXUU97"
      },
      "execution_count": null,
      "outputs": []
    },
    {
      "cell_type": "markdown",
      "source": [
        "# 불용어 처리"
      ],
      "metadata": {
        "id": "HW_PZRU3W3ig"
      }
    },
    {
      "cell_type": "code",
      "source": [
        "import pandas as pd\n",
        "stop_words = pd.read_csv('/content/drive/MyDrive/통계청_AI경진대회/한국어불용어100.txt',header=None, encoding ='utf-8',sep='\\t')\n",
        "stop_words = stop_words[0]"
      ],
      "metadata": {
        "id": "nGjtwvs8WR5z"
      },
      "execution_count": null,
      "outputs": []
    },
    {
      "cell_type": "code",
      "source": [
        "for i in range(len(stop_words)):\n",
        "  for j in range(len(bigword_split_okt)):\n",
        "    for item in bigword_split_okt[j]:\n",
        "      if item ==stop_words[i]:\n",
        "          bigword_split_okt[j].remove(stop_words[i])"
      ],
      "metadata": {
        "id": "X38gIBBeWUaS"
      },
      "execution_count": null,
      "outputs": []
    },
    {
      "cell_type": "code",
      "source": [
        "search=['매장','대상','서비스','고객','시설','접객','사업','일반인','판매','요청','제공','중개','영업','일반','제조','및','등','업','용','해','류','위','도','집','타','통해','입','물','전','기타',\n",
        "        '내','미만','상대로','스','로부터','위해','실','재','초','비','품','기','사','임','절','학','관','인','통해','캐','후','제','함','내부','즙','를','유','리','의','트','산','골','손','틀','접',\n",
        "        '영','활','무','폐','드','다른','케','목','난','수','상','고', '사업장', '사무실', '가게', '매장', '영업장', '현장', '시설', '개인','계약', '의뢰', '수련장', '가공', '관리', '위주', '산업', '개별','운영',\n",
        "        '활동', '요구', '업체', '음', '제작', '용품', '점', '가지','류', '각종', '의거', '대리', '체결', '설치', '방', '재료', '알선', '센터', '통해','전문', '수집', '기기', '업무', '부분', '실내', '특정', '서비스업',\n",
        "        '단체', '구입', '온라인','소비자','사용자','사무소']\n",
        "for i in range(len(search)):\n",
        "  for j in range(len(bigword_split_okt)):\n",
        "    for item in bigword_split_okt[j]:\n",
        "      if item ==search[i]:\n",
        "          bigword_split_okt[j].remove(search[i])"
      ],
      "metadata": {
        "id": "9OSBqt_xWVT5"
      },
      "execution_count": null,
      "outputs": []
    },
    {
      "cell_type": "code",
      "source": [
        "remove_set =['카','철','쌀','떡','술','빵','집','차','닭','원','꽃','옷','펌','톱','쇠','소','콩','훍','약','은','중','즙','땅','풀','밥','면','회','찜','배','산','벼','금','숯']\n",
        "bw = [i for i in bigword_split_okt if i not in remove_set]"
      ],
      "metadata": {
        "id": "E448vXojbTYf"
      },
      "execution_count": null,
      "outputs": []
    },
    {
      "cell_type": "code",
      "source": [
        "for i in range(len(bw)):\n",
        "  for j in range(len(bigword_split_okt)):\n",
        "    for item in bigword_split_okt[j]:\n",
        "      if item ==bw[i]:\n",
        "          bigword_split_okt[j].remove(bw[i])\n",
        "\n",
        "for r, row in enumerate(bigword_split_okt):\n",
        "  for c, letter in enumerate(row):\n",
        "    if letter ==bw[r][c]:\n",
        "          bigword_split_okt[r].remove(bw[r][c])"
      ],
      "metadata": {
        "id": "vkUZ3cDKbrOo"
      },
      "execution_count": null,
      "outputs": []
    },
    {
      "cell_type": "code",
      "source": [
        "import pickle\n",
        "with open('/content/drive/MyDrive/통계청_AI경진대회/영석/Nyoungeeee_train','wb') as f:\n",
        "    pickle.dump(bigword_split_okt,f)"
      ],
      "metadata": {
        "id": "DgSkHPB5XLZX"
      },
      "execution_count": null,
      "outputs": []
    },
    {
      "cell_type": "code",
      "source": [
        "from gensim.models import Word2Vec\n",
        "embedding_model = Word2Vec(bigword_split_okt, size=100, window = 2, min_count=50, workers=4, iter=100, sg=1)\n",
        "embedding_model.save('/content/drive/MyDrive/통계청_AI경진대회/final/data/Nyoungeeee.model')"
      ],
      "metadata": {
        "id": "dvMP-tQqW0e8"
      },
      "execution_count": null,
      "outputs": []
    }
  ]
}
